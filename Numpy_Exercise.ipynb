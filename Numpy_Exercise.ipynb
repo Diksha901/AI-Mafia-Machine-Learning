{
  "cells": [
    {
      "cell_type": "markdown",
      "metadata": {
        "id": "ykI2Qcr-0VK5"
      },
      "source": [
        "# Numpy Exercise"
      ]
    },
    {
      "cell_type": "markdown",
      "metadata": {
        "id": "Mmz-ALX_0VK_"
      },
      "source": [
        "#### 1. Import the numpy package under the name  (★☆☆)"
      ]
    },
    {
      "cell_type": "code",
      "execution_count": null,
      "metadata": {
        "collapsed": true,
        "id": "jz6FxXo30VLA"
      },
      "outputs": [],
      "source": [
        "import numpy as np"
      ]
    },
    {
      "cell_type": "markdown",
      "metadata": {
        "id": "DDZ6h4ml0VLB"
      },
      "source": [
        "#### 2. Print the numpy version and the configuration  (★☆☆)"
      ]
    },
    {
      "cell_type": "code",
      "execution_count": null,
      "metadata": {
        "colab": {
          "base_uri": "https://localhost:8080/"
        },
        "id": "8Am_3g1D0VLC",
        "outputId": "b78e1bbb-8f3f-4771-e4c5-bdf9670a1e76"
      },
      "outputs": [
        {
          "output_type": "stream",
          "name": "stdout",
          "text": [
            "1.26.4\n",
            "Build Dependencies:\n",
            "  blas:\n",
            "    detection method: pkgconfig\n",
            "    found: true\n",
            "    include directory: /usr/local/include\n",
            "    lib directory: /usr/local/lib\n",
            "    name: openblas64\n",
            "    openblas configuration: USE_64BITINT=1 DYNAMIC_ARCH=1 DYNAMIC_OLDER= NO_CBLAS=\n",
            "      NO_LAPACK= NO_LAPACKE= NO_AFFINITY=1 USE_OPENMP= HASWELL MAX_THREADS=2\n",
            "    pc file directory: /usr/local/lib/pkgconfig\n",
            "    version: 0.3.23.dev\n",
            "  lapack:\n",
            "    detection method: internal\n",
            "    found: true\n",
            "    include directory: unknown\n",
            "    lib directory: unknown\n",
            "    name: dep139863411681952\n",
            "    openblas configuration: unknown\n",
            "    pc file directory: unknown\n",
            "    version: 1.26.4\n",
            "Compilers:\n",
            "  c:\n",
            "    args: -fno-strict-aliasing\n",
            "    commands: cc\n",
            "    linker: ld.bfd\n",
            "    linker args: -Wl,--strip-debug, -fno-strict-aliasing\n",
            "    name: gcc\n",
            "    version: 10.2.1\n",
            "  c++:\n",
            "    commands: c++\n",
            "    linker: ld.bfd\n",
            "    linker args: -Wl,--strip-debug\n",
            "    name: gcc\n",
            "    version: 10.2.1\n",
            "  cython:\n",
            "    commands: cython\n",
            "    linker: cython\n",
            "    name: cython\n",
            "    version: 3.0.8\n",
            "Machine Information:\n",
            "  build:\n",
            "    cpu: x86_64\n",
            "    endian: little\n",
            "    family: x86_64\n",
            "    system: linux\n",
            "  host:\n",
            "    cpu: x86_64\n",
            "    endian: little\n",
            "    family: x86_64\n",
            "    system: linux\n",
            "Python Information:\n",
            "  path: /opt/python/cp310-cp310/bin/python\n",
            "  version: '3.10'\n",
            "SIMD Extensions:\n",
            "  baseline:\n",
            "  - SSE\n",
            "  - SSE2\n",
            "  - SSE3\n",
            "  found:\n",
            "  - SSSE3\n",
            "  - SSE41\n",
            "  - POPCNT\n",
            "  - SSE42\n",
            "  - AVX\n",
            "  - F16C\n",
            "  - FMA3\n",
            "  - AVX2\n",
            "  not found:\n",
            "  - AVX512F\n",
            "  - AVX512CD\n",
            "  - AVX512_KNL\n",
            "  - AVX512_KNM\n",
            "  - AVX512_SKX\n",
            "  - AVX512_CLX\n",
            "  - AVX512_CNL\n",
            "  - AVX512_ICL\n",
            "\n",
            "None\n"
          ]
        }
      ],
      "source": [
        "print(np.__version__)\n",
        "print(np.show_config())"
      ]
    },
    {
      "cell_type": "markdown",
      "metadata": {
        "id": "5BSS_Ivi0VLC"
      },
      "source": [
        "#### 3. Create a null vector of size 10 (★☆☆)"
      ]
    },
    {
      "cell_type": "code",
      "execution_count": null,
      "metadata": {
        "colab": {
          "base_uri": "https://localhost:8080/"
        },
        "id": "rhg9_eFi0VLD",
        "outputId": "526a2842-48de-45b3-f592-24ad6741f18f"
      },
      "outputs": [
        {
          "output_type": "stream",
          "name": "stdout",
          "text": [
            "[0. 0. 0. 0. 0. 0. 0. 0. 0. 0.]\n"
          ]
        }
      ],
      "source": [
        "x=np.zeros(10)\n",
        "print(x)"
      ]
    },
    {
      "cell_type": "markdown",
      "metadata": {
        "id": "z1LYzaFQ0VLE"
      },
      "source": [
        "#### 4.  How to find the memory size of any array (★☆☆)"
      ]
    },
    {
      "cell_type": "code",
      "execution_count": null,
      "metadata": {
        "colab": {
          "base_uri": "https://localhost:8080/"
        },
        "id": "YTiR-2hv0VLF",
        "outputId": "8f9b17e1-b2b5-414c-8f3c-9e180a00d3f7"
      },
      "outputs": [
        {
          "output_type": "stream",
          "name": "stdout",
          "text": [
            "10\n"
          ]
        }
      ],
      "source": [
        "print(np.size(x))"
      ]
    },
    {
      "cell_type": "markdown",
      "metadata": {
        "id": "N4Ml6LiN0VLG"
      },
      "source": [
        "#### 5.  How to get the documentation of the numpy add function from the command line? (★☆☆)"
      ]
    },
    {
      "cell_type": "code",
      "execution_count": null,
      "metadata": {
        "collapsed": true,
        "id": "vJUyce-j0VLG"
      },
      "outputs": [],
      "source": [
        "np.add?\n"
      ]
    },
    {
      "cell_type": "markdown",
      "metadata": {
        "id": "ooAGPRR80VLG"
      },
      "source": [
        "#### 6.  Create a null vector of size 10 but the fifth value which is 1 (★☆☆)"
      ]
    },
    {
      "cell_type": "code",
      "execution_count": null,
      "metadata": {
        "colab": {
          "base_uri": "https://localhost:8080/"
        },
        "id": "OR-ubWDM0VLH",
        "outputId": "6797b376-1e28-4824-d12a-5470ac90c5d4"
      },
      "outputs": [
        {
          "output_type": "stream",
          "name": "stdout",
          "text": [
            "[0. 0. 0. 0. 1. 0. 0. 0. 0. 0.]\n"
          ]
        }
      ],
      "source": [
        "y=np.zeros(10)\n",
        "y[4]=1\n",
        "print(y)"
      ]
    },
    {
      "cell_type": "markdown",
      "metadata": {
        "id": "G9DiiY-q0VLH"
      },
      "source": [
        "#### 7.  Create a vector with values ranging from 10 to 49 (★☆☆)"
      ]
    },
    {
      "cell_type": "code",
      "execution_count": null,
      "metadata": {
        "colab": {
          "base_uri": "https://localhost:8080/"
        },
        "id": "KjeBG9eD0VLH",
        "outputId": "b9c6d6e1-2762-4c6d-c59d-8752a160882d"
      },
      "outputs": [
        {
          "output_type": "stream",
          "name": "stdout",
          "text": [
            "[10 11 12 13 14 15 16 17 18 19 20 21 22 23 24 25 26 27 28 29 30 31 32 33\n",
            " 34 35 36 37 38 39 40 41 42 43 44 45 46 47 48 49]\n"
          ]
        }
      ],
      "source": [
        "range_array=np.arange(10,50)\n",
        "print(range_array)"
      ]
    },
    {
      "cell_type": "markdown",
      "metadata": {
        "id": "mR-YaHKt0VLI"
      },
      "source": [
        "#### 8.  Reverse a vector (first element becomes last) (★☆☆)"
      ]
    },
    {
      "cell_type": "code",
      "execution_count": null,
      "metadata": {
        "colab": {
          "base_uri": "https://localhost:8080/"
        },
        "id": "KdeXADiE0VLI",
        "outputId": "6f908ccf-a5b7-40a3-8fc3-9ac03601f7bc"
      },
      "outputs": [
        {
          "output_type": "stream",
          "name": "stdout",
          "text": [
            "[49 48 47 46 45 44 43 42 41 40 39 38 37 36 35 34 33 32 31 30 29 28 27 26\n",
            " 25 24 23 22 21 20 19 18 17 16 15 14 13 12 11 10]\n"
          ]
        }
      ],
      "source": [
        "reverse_array=np.flip(range_array)\n",
        "print(reverse_array)"
      ]
    },
    {
      "cell_type": "markdown",
      "metadata": {
        "id": "dJnYdB0I0VLI"
      },
      "source": [
        "#### 9.  Create a 3x3 matrix with values ranging from 0 to 8 (★☆☆)"
      ]
    },
    {
      "cell_type": "code",
      "execution_count": null,
      "metadata": {
        "colab": {
          "base_uri": "https://localhost:8080/"
        },
        "id": "qR2AXyXJ0VLJ",
        "outputId": "a22a6bf7-9cd8-4e14-c198-d3377f168d11"
      },
      "outputs": [
        {
          "output_type": "stream",
          "name": "stdout",
          "text": [
            "[[0 1 2]\n",
            " [3 4 5]\n",
            " [6 7 8]]\n"
          ]
        }
      ],
      "source": [
        "mat=np.arange(0,9).reshape(3,3)\n",
        "print(mat)"
      ]
    },
    {
      "cell_type": "markdown",
      "metadata": {
        "id": "M5SqttQL0VLJ"
      },
      "source": [
        "#### 10. Find indices of non-zero elements from \\[1,2,0,0,4,0\\] (★☆☆)"
      ]
    },
    {
      "cell_type": "code",
      "execution_count": null,
      "metadata": {
        "colab": {
          "base_uri": "https://localhost:8080/"
        },
        "id": "L-s2pPUD0VLJ",
        "outputId": "28af9c2e-33d8-405f-e99b-ff438f475049"
      },
      "outputs": [
        {
          "output_type": "stream",
          "name": "stdout",
          "text": [
            "(array([0, 1, 4]),)\n"
          ]
        }
      ],
      "source": [
        "a=np.array([1,2,0,0,4,0])\n",
        "print(np.nonzero(a))"
      ]
    },
    {
      "cell_type": "markdown",
      "metadata": {
        "id": "e8Jk8_TY0VLJ"
      },
      "source": [
        "#### 11. Create a 3x3 identity matrix (★☆☆)"
      ]
    },
    {
      "cell_type": "code",
      "execution_count": null,
      "metadata": {
        "colab": {
          "base_uri": "https://localhost:8080/"
        },
        "id": "1Bv_6VIt0VLJ",
        "outputId": "6e029b4a-3e25-428b-a6ec-fca9b08ba291"
      },
      "outputs": [
        {
          "output_type": "stream",
          "name": "stdout",
          "text": [
            "[[1. 0. 0.]\n",
            " [0. 1. 0.]\n",
            " [0. 0. 1.]]\n"
          ]
        }
      ],
      "source": [
        "I=np.eye(3)\n",
        "print(I)"
      ]
    },
    {
      "cell_type": "markdown",
      "metadata": {
        "id": "6ymsBteX0VLJ"
      },
      "source": [
        "#### 12. Create a 3x3x3 array with random values (★☆☆)"
      ]
    },
    {
      "cell_type": "code",
      "execution_count": null,
      "metadata": {
        "collapsed": true,
        "colab": {
          "base_uri": "https://localhost:8080/"
        },
        "id": "uX2ZuBOO0VLK",
        "outputId": "96e12784-fc7e-40b3-d94a-b2f7e9e00a76"
      },
      "outputs": [
        {
          "output_type": "stream",
          "name": "stdout",
          "text": [
            "[[[0.23413971 0.60239317 0.15063501]\n",
            "  [0.31502333 0.11333    0.13468802]\n",
            "  [0.97089947 0.28399587 0.81612232]]\n",
            "\n",
            " [[0.18436487 0.01491304 0.24637166]\n",
            "  [0.02992901 0.6664818  0.87667508]\n",
            "  [0.82441455 0.34123069 0.41156406]]\n",
            "\n",
            " [[0.60495495 0.9338189  0.65220186]\n",
            "  [0.01305932 0.20718073 0.29077586]\n",
            "  [0.08654377 0.92606391 0.08627837]]]\n"
          ]
        }
      ],
      "source": [
        "import random\n",
        "random_array=np.random.random((3,3,3))\n",
        "print(random_array)"
      ]
    },
    {
      "cell_type": "markdown",
      "metadata": {
        "id": "URc4tXA00VLK"
      },
      "source": [
        "#### 13. Create a 10x10 array with random values and find the minimum and maximum values (★☆☆)"
      ]
    },
    {
      "cell_type": "code",
      "execution_count": null,
      "metadata": {
        "colab": {
          "base_uri": "https://localhost:8080/"
        },
        "id": "UC5VYjal0VLK",
        "outputId": "bda8d5c7-f4fc-4cdf-9b6b-46730ee87d74"
      },
      "outputs": [
        {
          "output_type": "stream",
          "name": "stdout",
          "text": [
            "The min value of array is :  0.006897500528821321\n",
            "The max value of array is :  0.9945283339617238\n"
          ]
        }
      ],
      "source": [
        "b=np.random.random((10,10))\n",
        "print(\"The min value of array is : \" ,np.min(b))\n",
        "print(\"The max value of array is : \" , np.max(b))"
      ]
    },
    {
      "cell_type": "markdown",
      "metadata": {
        "id": "58SQXk1R0VLK"
      },
      "source": [
        "#### 14. Create a random vector of size 30 and find the mean value (★☆☆)"
      ]
    },
    {
      "cell_type": "code",
      "execution_count": null,
      "metadata": {
        "colab": {
          "base_uri": "https://localhost:8080/"
        },
        "id": "t-igVOMx0VLK",
        "outputId": "7fa9332e-826a-4070-8fcd-af027905ee1e"
      },
      "outputs": [
        {
          "output_type": "stream",
          "name": "stdout",
          "text": [
            "0.5771587152110946\n"
          ]
        }
      ],
      "source": [
        "c=np.random.random(30)\n",
        "print(np.mean(c))"
      ]
    },
    {
      "cell_type": "markdown",
      "metadata": {
        "id": "kxFr78la0VLL"
      },
      "source": [
        "#### 15. Create a 2d array with 1 on the border and 0 inside (★☆☆)"
      ]
    },
    {
      "cell_type": "code",
      "execution_count": null,
      "metadata": {
        "colab": {
          "base_uri": "https://localhost:8080/"
        },
        "id": "0Cmxsksn0VLL",
        "outputId": "fdfaab23-a477-4e78-9118-a140e2584d06"
      },
      "outputs": [
        {
          "output_type": "stream",
          "name": "stdout",
          "text": [
            "[[1. 1. 1. 1. 1.]\n",
            " [1. 0. 0. 0. 1.]\n",
            " [1. 0. 0. 0. 1.]\n",
            " [1. 0. 0. 0. 1.]\n",
            " [1. 1. 1. 1. 1.]]\n"
          ]
        }
      ],
      "source": [
        "array_1=np.ones((5,5))\n",
        "array_1[1:-1,1:-1]=0\n",
        "print(array_1)"
      ]
    },
    {
      "cell_type": "markdown",
      "metadata": {
        "id": "2_kG-nSq0VLL"
      },
      "source": [
        "#### 16. How to add a border (filled with 0's) around an existing array? (★☆☆)"
      ]
    },
    {
      "cell_type": "code",
      "execution_count": null,
      "metadata": {
        "colab": {
          "base_uri": "https://localhost:8080/"
        },
        "id": "dpcIkm040VLL",
        "outputId": "20fea0ff-b808-481c-de93-207fdbb45ef6"
      },
      "outputs": [
        {
          "output_type": "stream",
          "name": "stdout",
          "text": [
            "[[0. 0. 0. 0. 0. 0. 0.]\n",
            " [0. 1. 1. 1. 1. 1. 0.]\n",
            " [0. 1. 1. 1. 1. 1. 0.]\n",
            " [0. 1. 1. 1. 1. 1. 0.]\n",
            " [0. 1. 1. 1. 1. 1. 0.]\n",
            " [0. 1. 1. 1. 1. 1. 0.]\n",
            " [0. 0. 0. 0. 0. 0. 0.]]\n"
          ]
        }
      ],
      "source": [
        "c1=np.ones((5,5))\n",
        "c1=np.pad(c1,pad_width=1,mode='constant',constant_values=0)\n",
        "print(c1)"
      ]
    },
    {
      "cell_type": "markdown",
      "metadata": {
        "id": "OowTK5rP0VLL"
      },
      "source": [
        "#### 17. What is the result of the following expression? (★☆☆)"
      ]
    },
    {
      "cell_type": "markdown",
      "metadata": {
        "id": "u5OHMUV20VLM"
      },
      "source": [
        "```python\n",
        "0 * np.nan\n",
        "np.nan == np.nan\n",
        "np.inf > np.nan\n",
        "np.nan - np.nan\n",
        "np.nan in set([np.nan])\n",
        "0.3 == 3 * 0.1\n",
        "```"
      ]
    },
    {
      "cell_type": "code",
      "execution_count": null,
      "metadata": {
        "colab": {
          "base_uri": "https://localhost:8080/"
        },
        "id": "VHGCCwxT0VLM",
        "outputId": "6da764a1-916c-4dc8-d2d2-10876c3c3483"
      },
      "outputs": [
        {
          "output_type": "stream",
          "name": "stdout",
          "text": [
            "nan\n",
            "False\n",
            "False\n",
            "nan\n",
            "True\n",
            "False\n"
          ]
        }
      ],
      "source": [
        "print(0*np.nan)\n",
        "print(np.nan==np.nan)\n",
        "print(np.inf>np.nan)\n",
        "print(np.nan-np.nan)\n",
        "print(np.nan in set([np.nan]))\n",
        "print(0.3==3*0.1)"
      ]
    },
    {
      "cell_type": "markdown",
      "metadata": {
        "id": "cfeOh4Wz0VLM"
      },
      "source": [
        "#### 18. Create a 5x5 matrix with values 1,2,3,4 just below the diagonal (★☆☆)"
      ]
    },
    {
      "cell_type": "code",
      "execution_count": null,
      "metadata": {
        "colab": {
          "base_uri": "https://localhost:8080/"
        },
        "id": "8VrLPcLs0VLM",
        "outputId": "9362f851-e0fc-499e-e481-2e8d13d763ce"
      },
      "outputs": [
        {
          "output_type": "stream",
          "name": "stdout",
          "text": [
            "[[0 0 0 0 0]\n",
            " [1 0 0 0 0]\n",
            " [0 2 0 0 0]\n",
            " [0 0 3 0 0]\n",
            " [0 0 0 4 0]]\n"
          ]
        }
      ],
      "source": [
        "mat1=np.diag(1+np.arange(4),k=-1)\n",
        "print(mat1)"
      ]
    },
    {
      "cell_type": "markdown",
      "metadata": {
        "id": "C4J37oQ90VLN"
      },
      "source": [
        "#### 19. Create a 8x8 matrix and fill it with a checkerboard pattern (★☆☆)"
      ]
    },
    {
      "cell_type": "code",
      "execution_count": null,
      "metadata": {
        "colab": {
          "base_uri": "https://localhost:8080/"
        },
        "id": "hr3lEhbg0VLT",
        "outputId": "a54a3751-4912-486e-e92e-984878d7d81e"
      },
      "outputs": [
        {
          "output_type": "stream",
          "name": "stdout",
          "text": [
            "[[0 1 0 1 0 1 0 1]\n",
            " [1 0 1 0 1 0 1 0]\n",
            " [0 1 0 1 0 1 0 1]\n",
            " [1 0 1 0 1 0 1 0]\n",
            " [0 1 0 1 0 1 0 1]\n",
            " [1 0 1 0 1 0 1 0]\n",
            " [0 1 0 1 0 1 0 1]\n",
            " [1 0 1 0 1 0 1 0]]\n"
          ]
        }
      ],
      "source": [
        "check=np.zeros((8,8),dtype=int)\n",
        "check[1::2,::2]=1\n",
        "check[::2,1::2]=1\n",
        "print(check)"
      ]
    },
    {
      "cell_type": "markdown",
      "metadata": {
        "id": "_n1C4X2r0VLU"
      },
      "source": [
        "#### 20. Consider a (6,7,8) shape array, what is the index (x,y,z) of the 100th element?"
      ]
    },
    {
      "cell_type": "code",
      "execution_count": null,
      "metadata": {
        "colab": {
          "base_uri": "https://localhost:8080/"
        },
        "id": "QyMfRTe-0VLU",
        "outputId": "a13c22a8-de4e-48e7-95db-ef4757ae0aa8"
      },
      "outputs": [
        {
          "output_type": "stream",
          "name": "stdout",
          "text": [
            "(1, 5, 3)\n"
          ]
        }
      ],
      "source": [
        "array2=np.unravel_index(99,(6,7,8))\n",
        "print(array2)"
      ]
    },
    {
      "cell_type": "markdown",
      "metadata": {
        "id": "3cKzjv-L0VLV"
      },
      "source": [
        "#### 21. Create a checkerboard 8x8 matrix using the tile function (★☆☆)"
      ]
    },
    {
      "cell_type": "code",
      "execution_count": null,
      "metadata": {
        "colab": {
          "base_uri": "https://localhost:8080/"
        },
        "id": "KBkm6V680VLV",
        "outputId": "741c1bfe-567b-4d7a-b822-1049a8d9d7e2"
      },
      "outputs": [
        {
          "output_type": "stream",
          "name": "stdout",
          "text": [
            "[[0 1 0 1 0 1 0 1]\n",
            " [1 0 1 0 1 0 1 0]\n",
            " [0 1 0 1 0 1 0 1]\n",
            " [1 0 1 0 1 0 1 0]\n",
            " [0 1 0 1 0 1 0 1]\n",
            " [1 0 1 0 1 0 1 0]\n",
            " [0 1 0 1 0 1 0 1]\n",
            " [1 0 1 0 1 0 1 0]]\n"
          ]
        }
      ],
      "source": [
        "check1=np.array([[0,1],[1,0]])\n",
        "check2=np.tile(check1,(4,4))\n",
        "print(check2)"
      ]
    },
    {
      "cell_type": "markdown",
      "metadata": {
        "id": "rkk9y7Yq0VLV"
      },
      "source": [
        "#### 22. Normalize a 5x5 random matrix (★☆☆)"
      ]
    },
    {
      "cell_type": "code",
      "execution_count": null,
      "metadata": {
        "colab": {
          "base_uri": "https://localhost:8080/"
        },
        "id": "Wysx6HLp0VLW",
        "outputId": "5752b958-12a7-4a5f-ad8b-ff93b144931f"
      },
      "outputs": [
        {
          "output_type": "stream",
          "name": "stdout",
          "text": [
            "[[-1.24414394e+00 -1.56073036e+00  8.81532269e-01 -5.70739993e-01\n",
            "   4.41137332e-01]\n",
            " [ 1.32971288e+00 -7.93375879e-01  9.77747138e-01  1.40747657e+00\n",
            "   9.87506031e-01]\n",
            " [-1.27542499e+00  1.33587749e+00  1.33046569e+00  1.33928475e+00\n",
            "  -7.02217537e-01]\n",
            " [ 2.38115910e-01 -8.91154088e-01 -2.78016349e-01 -1.61063359e+00\n",
            "  -6.91381385e-01]\n",
            " [ 8.12508300e-01  4.29030086e-04 -2.92293148e-01 -1.09008337e+00\n",
            "  -8.15987664e-02]]\n"
          ]
        }
      ],
      "source": [
        "mat3=np.random.random((5,5))\n",
        "mat3=(mat3-np.mean(mat3))/np.std(mat3)\n",
        "print(mat3)"
      ]
    },
    {
      "cell_type": "markdown",
      "metadata": {
        "id": "4CzkVWdS0VLW"
      },
      "source": [
        "#### 23. Create a custom dtype that describes a color as four unsigned bytes (RGBA) (★☆☆)"
      ]
    },
    {
      "cell_type": "code",
      "execution_count": null,
      "metadata": {
        "collapsed": true,
        "colab": {
          "base_uri": "https://localhost:8080/"
        },
        "id": "FtsSK5PS0VLW",
        "outputId": "23210553-c7b4-4d37-8d72-0f326a0f3d94"
      },
      "outputs": [
        {
          "output_type": "stream",
          "name": "stdout",
          "text": [
            "[('r', 'u1'), ('g', 'u1'), ('b', 'u1'), ('a', 'u1')]\n"
          ]
        },
        {
          "output_type": "stream",
          "name": "stderr",
          "text": [
            "<ipython-input-32-fcf70a765177>:1: FutureWarning: Passing (type, 1) or '1type' as a synonym of type is deprecated; in a future version of numpy, it will be understood as (type, (1,)) / '(1,)type'.\n",
            "  a=np.dtype([(\"r\",np.ubyte,1),(\"g\",np.ubyte,1),(\"b\",np.ubyte,1),(\"a\",np.ubyte,1)])\n"
          ]
        }
      ],
      "source": [
        "a=np.dtype([(\"r\",np.ubyte,1),(\"g\",np.ubyte,1),(\"b\",np.ubyte,1),(\"a\",np.ubyte,1)])\n",
        "print(a)"
      ]
    },
    {
      "cell_type": "markdown",
      "metadata": {
        "id": "wvj-lB-90VLW"
      },
      "source": [
        "#### 24. Multiply a 5x3 matrix by a 3x2 matrix (real matrix product) (★☆☆)"
      ]
    },
    {
      "cell_type": "code",
      "execution_count": null,
      "metadata": {
        "colab": {
          "base_uri": "https://localhost:8080/"
        },
        "id": "8Gc8yA9b0VLX",
        "outputId": "c754fddb-df21-4133-8075-b120e6960ae1"
      },
      "outputs": [
        {
          "output_type": "stream",
          "name": "stdout",
          "text": [
            "[[1.75627546 0.95098437]\n",
            " [0.99802813 0.09719994]\n",
            " [0.23170418 0.34189838]\n",
            " [0.64714558 0.49074118]\n",
            " [1.37090007 0.48671264]]\n"
          ]
        }
      ],
      "source": [
        "mat_a=np.random.random((5,3))\n",
        "mat_b=np.random.random((3,2))\n",
        "mat_c=np.dot(mat_a,mat_b)\n",
        "print(mat_c)"
      ]
    },
    {
      "cell_type": "markdown",
      "metadata": {
        "id": "WgYgYKeh0VLX"
      },
      "source": [
        "#### 25. Given a 1D array, negate all elements which are between 3 and 8, in place. (★☆☆)"
      ]
    },
    {
      "cell_type": "code",
      "execution_count": null,
      "metadata": {
        "colab": {
          "base_uri": "https://localhost:8080/"
        },
        "id": "Dm8ilUVy0VLX",
        "outputId": "a5b9c478-3882-4653-d480-d7013996ec9e"
      },
      "outputs": [
        {
          "output_type": "stream",
          "name": "stdout",
          "text": [
            "[ 0  1  2 -3 -4 -5 -6 -7 -8  9 10]\n"
          ]
        }
      ],
      "source": [
        "myarray=np.arange(11)\n",
        "myarray[(myarray>=3)&(myarray<=8)]*=-1\n",
        "print(myarray)"
      ]
    },
    {
      "cell_type": "markdown",
      "metadata": {
        "id": "Moc_osDv0VLX"
      },
      "source": [
        "#### 26. What is the output of the following script? (★☆☆)"
      ]
    },
    {
      "cell_type": "markdown",
      "metadata": {
        "id": "-BKAbA-W0VLX"
      },
      "source": [
        "```python\n",
        "# Author: Jake VanderPlas\n",
        "\n",
        "print(sum(range(5),-1))\n",
        "from numpy import *\n",
        "print(sum(range(5),-1))\n",
        "```"
      ]
    },
    {
      "cell_type": "markdown",
      "source": [
        "print(sum(range(5),-1)) = 9\n",
        "Importing it by * means it will load all functions of numpy in local namespace\n",
        "You can directly use array([1,2,3]) instead of np .array\n"
      ],
      "metadata": {
        "id": "XUXeoXIwB2kG"
      }
    },
    {
      "cell_type": "code",
      "execution_count": null,
      "metadata": {
        "colab": {
          "base_uri": "https://localhost:8080/"
        },
        "id": "LtwIpPd10VLY",
        "outputId": "0cfaf85f-475f-4201-a8bb-7904d5c194d7"
      },
      "outputs": [
        {
          "output_type": "stream",
          "name": "stdout",
          "text": [
            "9\n"
          ]
        }
      ],
      "source": [
        "print(sum(range(5),-1))"
      ]
    },
    {
      "cell_type": "markdown",
      "metadata": {
        "id": "7zJ3ISrr0VLY"
      },
      "source": [
        "#### 27. Consider an integer vector Z, which of these expressions are legal? (★☆☆)"
      ]
    },
    {
      "cell_type": "markdown",
      "metadata": {
        "id": "myk4v9Wy0VLY"
      },
      "source": [
        "```python\n",
        "Z**Z\n",
        "2 << Z >> 2\n",
        "Z <- Z\n",
        "1j*Z\n",
        "Z/1/1\n",
        "Z<Z>Z\n",
        "```"
      ]
    },
    {
      "cell_type": "markdown",
      "source": [
        "All expression except the last one will work\n"
      ],
      "metadata": {
        "id": "nGa8yWgPD1bi"
      }
    },
    {
      "cell_type": "code",
      "execution_count": null,
      "metadata": {
        "colab": {
          "base_uri": "https://localhost:8080/"
        },
        "id": "F0lhaQ9V0VLY",
        "outputId": "6656f960-cbb5-466b-b9fe-b2eafd21f3d2"
      },
      "outputs": [
        {
          "output_type": "stream",
          "name": "stdout",
          "text": [
            "[  1   4  27 256]\n",
            "[1 2 4 8]\n",
            "[False False False False]\n",
            "[0.+1.j 0.+2.j 0.+3.j 0.+4.j]\n",
            "[1. 2. 3. 4.]\n"
          ]
        }
      ],
      "source": [
        "z=np.array([1,2,3,4])\n",
        "print(z**z)\n",
        "print(2<<z>>2)\n",
        "print(z<-z)\n",
        "print(1j*z)\n",
        "print(z/1/1)\n"
      ]
    },
    {
      "cell_type": "markdown",
      "metadata": {
        "id": "0jwJ3hsp0VLZ"
      },
      "source": [
        "#### 28. What are the result of the following expressions?"
      ]
    },
    {
      "cell_type": "markdown",
      "metadata": {
        "id": "XnpUVsOO0VLZ"
      },
      "source": [
        "```python\n",
        "np.array(0) / np.array(0)\n",
        "np.array(0) // np.array(0)\n",
        "np.array([np.nan]).astype(int).astype(float)\n",
        "```"
      ]
    },
    {
      "cell_type": "markdown",
      "source": [
        "for first statement it will give NaN value\n",
        "for second statement it will give 0 but an warning of division by zero too\n",
        "for third statement ,it gives a lowest number possible with a warning of invalid casting"
      ],
      "metadata": {
        "id": "6bkWrAlFEX8m"
      }
    },
    {
      "cell_type": "code",
      "execution_count": null,
      "metadata": {
        "colab": {
          "base_uri": "https://localhost:8080/"
        },
        "id": "RQ21Q7dF0VLZ",
        "outputId": "a7e09ef7-8a31-4aff-fd9a-176e43bd7824"
      },
      "outputs": [
        {
          "output_type": "stream",
          "name": "stdout",
          "text": [
            "[-9.22337204e+18]\n"
          ]
        },
        {
          "output_type": "stream",
          "name": "stderr",
          "text": [
            "<ipython-input-37-8ac629ca88a6>:1: RuntimeWarning: invalid value encountered in cast\n",
            "  print(np.array([np.nan]).astype(int).astype(float))\n"
          ]
        }
      ],
      "source": [
        "print(np.array([np.nan]).astype(int).astype(float))"
      ]
    },
    {
      "cell_type": "markdown",
      "metadata": {
        "id": "og3F9Enr0VLZ"
      },
      "source": [
        "#### 29. How to round away from zero a float array ? (★☆☆)"
      ]
    },
    {
      "cell_type": "code",
      "execution_count": null,
      "metadata": {
        "colab": {
          "base_uri": "https://localhost:8080/"
        },
        "id": "JS7ukuVl0VLZ",
        "outputId": "a34997d5-52c7-4c31-a42c-da3344e1c360"
      },
      "outputs": [
        {
          "output_type": "stream",
          "name": "stdout",
          "text": [
            "[ 9.  5.  2.  6.  2. -3. -7.  9. -7. -4.]\n"
          ]
        }
      ],
      "source": [
        "mat4=np.random.uniform(-10,10,10)\n",
        "print(np.copysign(np.ceil(np.abs(mat4)),mat4))"
      ]
    },
    {
      "cell_type": "markdown",
      "metadata": {
        "id": "A-F9BhfV0VLa"
      },
      "source": [
        "#### 30. How to find common values between two arrays? (★☆☆)"
      ]
    },
    {
      "cell_type": "code",
      "execution_count": null,
      "metadata": {
        "colab": {
          "base_uri": "https://localhost:8080/"
        },
        "id": "evFm4Pc70VLa",
        "outputId": "d6b4b2de-fdaa-4577-9d01-69be40e20a8d"
      },
      "outputs": [
        {
          "output_type": "stream",
          "name": "stdout",
          "text": [
            "[2 3]\n"
          ]
        }
      ],
      "source": [
        "A=np.array([1,2,3,4])\n",
        "B=np.array([2,3,7,10])\n",
        "print(np.intersect1d(A,B))"
      ]
    },
    {
      "cell_type": "markdown",
      "metadata": {
        "id": "pDWrIR_A0VLa"
      },
      "source": [
        "#### 31. How to ignore all numpy warnings (not recommended)? (★☆☆)"
      ]
    },
    {
      "cell_type": "code",
      "execution_count": null,
      "metadata": {
        "colab": {
          "base_uri": "https://localhost:8080/"
        },
        "id": "yvLP03UA0VLa",
        "outputId": "3ece4e30-bdd4-43ef-cfd1-1a830e153238"
      },
      "outputs": [
        {
          "output_type": "execute_result",
          "data": {
            "text/plain": [
              "{'divide': 'warn', 'over': 'warn', 'under': 'ignore', 'invalid': 'warn'}"
            ]
          },
          "metadata": {},
          "execution_count": 40
        }
      ],
      "source": [
        "np.seterr(all=\"ignore\")\n"
      ]
    },
    {
      "cell_type": "markdown",
      "metadata": {
        "id": "sfKsVFmM0VLa"
      },
      "source": [
        "#### 32. Is the following expressions true? (★☆☆)"
      ]
    },
    {
      "cell_type": "markdown",
      "metadata": {
        "id": "WELerIMs0VLa"
      },
      "source": [
        "```python\n",
        "np.sqrt(-1) == np.emath.sqrt(-1)\n",
        "```"
      ]
    },
    {
      "cell_type": "markdown",
      "source": [
        "No they are not the same expression as np.sqrt of -1 will not work and give you nan while the np.emath.sqrt can print the imaginary root of -1 in complex form"
      ],
      "metadata": {
        "id": "RObeEohx2VpU"
      }
    },
    {
      "cell_type": "code",
      "execution_count": null,
      "metadata": {
        "colab": {
          "base_uri": "https://localhost:8080/"
        },
        "id": "Ho-4Zow70VLb",
        "outputId": "fc2c9b55-77e4-4a69-d003-19a65557692b"
      },
      "outputs": [
        {
          "output_type": "stream",
          "name": "stdout",
          "text": [
            "nan\n",
            "1j\n"
          ]
        }
      ],
      "source": [
        "print(np.sqrt(-1))\n",
        "print(np.emath.sqrt(-1))"
      ]
    },
    {
      "cell_type": "markdown",
      "metadata": {
        "id": "FwnMM7cU0VLb"
      },
      "source": [
        "#### 33. How to get the dates of yesterday, today and tomorrow? (★☆☆)"
      ]
    },
    {
      "cell_type": "code",
      "execution_count": null,
      "metadata": {
        "collapsed": true,
        "id": "_jmlrGhy0VLb",
        "colab": {
          "base_uri": "https://localhost:8080/"
        },
        "outputId": "cf6de144-efd2-45e3-85a9-49c2fd513be3"
      },
      "outputs": [
        {
          "output_type": "stream",
          "name": "stdout",
          "text": [
            "Today's date:  2024-08-14\n",
            "Yesterday:  2024-08-13\n",
            "Tomorrow :  2024-08-15\n"
          ]
        }
      ],
      "source": [
        "from datetime import date,timedelta\n",
        "today=date.today()\n",
        "print(\"Today's date: \", today)\n",
        "yesterday=today-timedelta(days=1)\n",
        "print(\"Yesterday: \", yesterday)\n",
        "tomorrow=today+timedelta(days=1)\n",
        "print(\"Tomorrow : \", tomorrow)"
      ]
    },
    {
      "cell_type": "markdown",
      "metadata": {
        "id": "WcGWCyEl0VLb"
      },
      "source": [
        "#### 34. How to get all the dates corresponding to the month of July 2016? (★★☆)"
      ]
    },
    {
      "cell_type": "code",
      "execution_count": null,
      "metadata": {
        "id": "cPfS3u7B0VLb",
        "colab": {
          "base_uri": "https://localhost:8080/"
        },
        "outputId": "7f41c526-75b3-4ad1-fbe7-2812250c7516"
      },
      "outputs": [
        {
          "output_type": "stream",
          "name": "stdout",
          "text": [
            "['2016-07-01' '2016-07-02' '2016-07-03' '2016-07-04' '2016-07-05'\n",
            " '2016-07-06' '2016-07-07' '2016-07-08' '2016-07-09' '2016-07-10'\n",
            " '2016-07-11' '2016-07-12' '2016-07-13' '2016-07-14' '2016-07-15'\n",
            " '2016-07-16' '2016-07-17' '2016-07-18' '2016-07-19' '2016-07-20'\n",
            " '2016-07-21' '2016-07-22' '2016-07-23' '2016-07-24' '2016-07-25'\n",
            " '2016-07-26' '2016-07-27' '2016-07-28' '2016-07-29' '2016-07-30'\n",
            " '2016-07-31']\n"
          ]
        }
      ],
      "source": [
        "print(np.arange('2016-07','2016-08',dtype='datetime64[D]'))"
      ]
    },
    {
      "cell_type": "markdown",
      "metadata": {
        "id": "mnqj89nH0VLb"
      },
      "source": [
        "#### 35. How to compute ((A+B)\\*(-A/2)) in place (without copy)? (★★☆)"
      ]
    },
    {
      "cell_type": "code",
      "execution_count": null,
      "metadata": {
        "id": "vWr5ruSm0VLc",
        "colab": {
          "base_uri": "https://localhost:8080/"
        },
        "outputId": "43816097-523b-47f1-e9b9-d8e05984af54"
      },
      "outputs": [
        {
          "output_type": "execute_result",
          "data": {
            "text/plain": [
              "array([-2., -2., -2.])"
            ]
          },
          "metadata": {},
          "execution_count": 44
        }
      ],
      "source": [
        "A=np.ones(3)\n",
        "B=np.ones(3)*3\n",
        "np.add(A,B,out=B)\n",
        "np.divide(A,2,out=A)\n",
        "np.negative(A,out=A)\n",
        "np.multiply(A,B,out=A)"
      ]
    },
    {
      "cell_type": "markdown",
      "metadata": {
        "id": "mb1-Bh8g0VLc"
      },
      "source": [
        "#### 36. Extract the integer part of a random array using 5 different methods (★★☆)"
      ]
    },
    {
      "cell_type": "code",
      "execution_count": null,
      "metadata": {
        "id": "1fb5lOnj0VLc",
        "colab": {
          "base_uri": "https://localhost:8080/"
        },
        "outputId": "24528ec5-9687-4ea3-e42f-b7239e1c84ef"
      },
      "outputs": [
        {
          "output_type": "stream",
          "name": "stdout",
          "text": [
            "Float Array:  [9.0464584  9.62450919 4.60968992 0.70531442 7.19431755 3.3985197\n",
            " 9.7905724  5.08497473 8.16066347 3.99741421]\n",
            "[9. 9. 4. 0. 7. 3. 9. 5. 8. 3.]\n",
            "[9. 9. 4. 0. 7. 3. 9. 5. 8. 3.]\n",
            "[9. 9. 4. 0. 7. 3. 9. 5. 8. 3.]\n",
            "[9 9 4 0 7 3 9 5 8 3]\n",
            "[9. 9. 4. 0. 7. 3. 9. 5. 8. 3.]\n"
          ]
        }
      ],
      "source": [
        "A=np.random.uniform(0,10,10)\n",
        "print(\"Float Array: \", A)\n",
        "#Integer extraction\n",
        "print(A//1)\n",
        "print(np.floor(A))\n",
        "print(np.trunc(A))\n",
        "print(A.astype(int))\n",
        "print(A-A%1)"
      ]
    },
    {
      "cell_type": "markdown",
      "metadata": {
        "id": "5nKCiavb0VLc"
      },
      "source": [
        "#### 37. Create a 5x5 matrix with row values ranging from 0 to 4 (★★☆)"
      ]
    },
    {
      "cell_type": "code",
      "execution_count": null,
      "metadata": {
        "id": "gp8h3ir00VLc",
        "colab": {
          "base_uri": "https://localhost:8080/"
        },
        "outputId": "ccd8ca35-df21-4533-9d01-a8ec9248a657"
      },
      "outputs": [
        {
          "output_type": "stream",
          "name": "stdout",
          "text": [
            "[[0 1 2 3 4]\n",
            " [0 1 2 3 4]\n",
            " [0 1 2 3 4]\n",
            " [0 1 2 3 4]\n",
            " [0 1 2 3 4]]\n"
          ]
        }
      ],
      "source": [
        "mat5=np.arange(0,5)\n",
        "mat5=np.tile(mat5,(5,1))\n",
        "print(mat5)"
      ]
    },
    {
      "cell_type": "markdown",
      "metadata": {
        "id": "x_vm05WW0VLd"
      },
      "source": [
        "#### 38. Consider a generator function that generates 10 integers and use it to build an array (★☆☆)"
      ]
    },
    {
      "cell_type": "code",
      "execution_count": null,
      "metadata": {
        "id": "tOCwmZ9Y0VLd",
        "colab": {
          "base_uri": "https://localhost:8080/"
        },
        "outputId": "86125af3-9386-4be0-ded7-e8da72dd9677"
      },
      "outputs": [
        {
          "output_type": "stream",
          "name": "stdout",
          "text": [
            "[2 3 7 4 4 9 0 7 8 6]\n"
          ]
        }
      ],
      "source": [
        "C=np.random.randint(10,size=10)\n",
        "print(C)"
      ]
    },
    {
      "cell_type": "markdown",
      "metadata": {
        "id": "mkqpwv010VLd"
      },
      "source": [
        "#### 39. Create a vector of size 10 with values ranging from 0 to 1, both excluded (★★☆)"
      ]
    },
    {
      "cell_type": "code",
      "execution_count": null,
      "metadata": {
        "id": "YY1f2Nv-0VLd",
        "colab": {
          "base_uri": "https://localhost:8080/"
        },
        "outputId": "d66243b8-f340-43dc-a422-fb9baa32bf64"
      },
      "outputs": [
        {
          "output_type": "stream",
          "name": "stdout",
          "text": [
            "[0.09090909 0.18181818 0.27272727 0.36363636 0.45454545 0.54545455\n",
            " 0.63636364 0.72727273 0.81818182 0.90909091]\n"
          ]
        }
      ],
      "source": [
        "D=np.linspace(0,1,11,endpoint=False)[1:]\n",
        "print(D)"
      ]
    },
    {
      "cell_type": "markdown",
      "metadata": {
        "id": "IAwO_Azy0VLd"
      },
      "source": [
        "#### 40. Create a random vector of size 10 and sort it (★★☆)"
      ]
    },
    {
      "cell_type": "code",
      "execution_count": null,
      "metadata": {
        "id": "OZoGpE8f0VLe",
        "colab": {
          "base_uri": "https://localhost:8080/"
        },
        "outputId": "a2baf207-de23-4121-d8cd-e85b0cb6feea"
      },
      "outputs": [
        {
          "output_type": "stream",
          "name": "stdout",
          "text": [
            "Random vector:  [5 1 7 0 3 5 4 8 4 1]\n",
            "Sorted Array :\n",
            " [0 1 1 3 4 4 5 5 7 8]\n"
          ]
        }
      ],
      "source": [
        "E=np.random.randint(10,size=10)\n",
        "print(\"Random vector: \", E)\n",
        "E.sort()\n",
        "print(\"Sorted Array :\\n\" ,E)"
      ]
    },
    {
      "cell_type": "markdown",
      "metadata": {
        "id": "ReEMs7PY0VLe"
      },
      "source": [
        "#### 41. How to sum a small array faster than np.sum? (★★☆)"
      ]
    },
    {
      "cell_type": "code",
      "execution_count": null,
      "metadata": {
        "id": "vCnvaL170VLe",
        "colab": {
          "base_uri": "https://localhost:8080/"
        },
        "outputId": "375dcd79-6128-4ff7-b20e-b870214b6991"
      },
      "outputs": [
        {
          "output_type": "execute_result",
          "data": {
            "text/plain": [
              "45"
            ]
          },
          "metadata": {},
          "execution_count": 50
        }
      ],
      "source": [
        "x=np.arange(10)\n",
        "np.add.reduce(x)"
      ]
    },
    {
      "cell_type": "markdown",
      "metadata": {
        "id": "1_F9n8O10VLe"
      },
      "source": [
        "#### 42. Consider two random array A and B, check if they are equal (★★☆)"
      ]
    },
    {
      "cell_type": "code",
      "execution_count": null,
      "metadata": {
        "id": "clQ6vgj20VLe",
        "colab": {
          "base_uri": "https://localhost:8080/"
        },
        "outputId": "bcbc8997-b7b8-4d04-a19e-539ce6d9a5c0"
      },
      "outputs": [
        {
          "output_type": "stream",
          "name": "stdout",
          "text": [
            "False\n"
          ]
        }
      ],
      "source": [
        "A=np.random.randint(5,size=5)\n",
        "B=np.random.randint(5,size=5)\n",
        "print(np.array_equal(A,B))"
      ]
    },
    {
      "cell_type": "markdown",
      "metadata": {
        "id": "3saj2HvY0VLe"
      },
      "source": [
        "#### 43. Make an array immutable (read-only) (★★☆)"
      ]
    },
    {
      "cell_type": "code",
      "execution_count": null,
      "metadata": {
        "id": "xM4py30f0VLf"
      },
      "outputs": [],
      "source": [
        "my_array=np.eye(3)\n",
        "my_array.flags.writeable=False\n",
        "#my_array[0,1]=1 # This will raise an error that assignment destination is read only"
      ]
    },
    {
      "cell_type": "markdown",
      "metadata": {
        "id": "YWt9y0Y70VLf"
      },
      "source": [
        "#### 44. Consider a random 10x2 matrix representing cartesian coordinates, convert them to polar coordinates (★★☆)"
      ]
    },
    {
      "cell_type": "code",
      "execution_count": null,
      "metadata": {
        "id": "37uG9lfC0VLf",
        "colab": {
          "base_uri": "https://localhost:8080/"
        },
        "outputId": "107be6d7-9012-4675-d0d7-6c421dbea2f1"
      },
      "outputs": [
        {
          "output_type": "stream",
          "name": "stdout",
          "text": [
            "Modulo array:  [0.75311982 0.55246676 1.1148032  1.00344191 0.3683927  0.42897937\n",
            " 1.13162019 0.84923006 0.37288746 0.79306651]\n",
            "Angle array:  [1.5468604  0.22351459 0.5109116  1.04545658 0.27205775 0.69422525\n",
            " 0.48725164 1.50253417 0.9105206  1.12260614]\n"
          ]
        }
      ],
      "source": [
        "mat6=np.random.random((10,2))\n",
        "x,y=mat6[:,0],mat6[:,1]\n",
        "r=np.sqrt(x**2+y**2)\n",
        "t=np.arctan(y/x)\n",
        "print(\"Modulo array: \" , r)\n",
        "print(\"Angle array: \", t)"
      ]
    },
    {
      "cell_type": "markdown",
      "metadata": {
        "id": "bAJUld_N0VLf"
      },
      "source": [
        "#### 45. Create random vector of size 10 and replace the maximum value by 0 (★★☆)"
      ]
    },
    {
      "cell_type": "code",
      "execution_count": null,
      "metadata": {
        "id": "SJWoO-YX0VLf",
        "colab": {
          "base_uri": "https://localhost:8080/"
        },
        "outputId": "414a03f4-6940-4dd6-ce9f-9793b19377a8"
      },
      "outputs": [
        {
          "output_type": "stream",
          "name": "stdout",
          "text": [
            "Original Array : [ 4  7  9  4 16 19  5 17 15 11]\n",
            "Modified Array : [ 4  7  9  4 16  0  5 17 15 11]\n"
          ]
        }
      ],
      "source": [
        "v=np.random.randint(20,size=10)\n",
        "print(\"Original Array :\", v)\n",
        "v[v.argmax()]=0\n",
        "print(\"Modified Array :\", v)"
      ]
    },
    {
      "cell_type": "markdown",
      "metadata": {
        "id": "2iStLyWB0VLg"
      },
      "source": [
        "#### 46. Create a structured array with `x` and `y` coordinates covering the \\[0,1\\]x\\[0,1\\] area (★★☆)"
      ]
    },
    {
      "cell_type": "code",
      "execution_count": null,
      "metadata": {
        "id": "0t0yxqdK0VLg",
        "colab": {
          "base_uri": "https://localhost:8080/"
        },
        "outputId": "c1d1768d-82c6-4573-e31a-29f38a65f94e"
      },
      "outputs": [
        {
          "output_type": "stream",
          "name": "stdout",
          "text": [
            "[[0.   0.25 0.5  0.75 1.  ]\n",
            " [0.   0.25 0.5  0.75 1.  ]\n",
            " [0.   0.25 0.5  0.75 1.  ]\n",
            " [0.   0.25 0.5  0.75 1.  ]\n",
            " [0.   0.25 0.5  0.75 1.  ]]\n",
            "[[0.   0.   0.   0.   0.  ]\n",
            " [0.25 0.25 0.25 0.25 0.25]\n",
            " [0.5  0.5  0.5  0.5  0.5 ]\n",
            " [0.75 0.75 0.75 0.75 0.75]\n",
            " [1.   1.   1.   1.   1.  ]]\n"
          ]
        }
      ],
      "source": [
        "x=np.linspace(0,1,5)\n",
        "y=np.linspace(0,1,5)\n",
        "X,Y=np.meshgrid(x,y)\n",
        "print(X)\n",
        "print(Y)"
      ]
    },
    {
      "cell_type": "markdown",
      "metadata": {
        "id": "8bZMMAJj0VLg"
      },
      "source": [
        "####  47. Given two arrays, X and Y, construct the Cauchy matrix C (Cij =1/(xi - yj))"
      ]
    },
    {
      "cell_type": "code",
      "execution_count": null,
      "metadata": {
        "id": "nDhpBELf0VLg",
        "colab": {
          "base_uri": "https://localhost:8080/"
        },
        "outputId": "43c567ae-6811-4c97-e4ea-c400f29707dd"
      },
      "outputs": [
        {
          "output_type": "stream",
          "name": "stdout",
          "text": [
            "[[-2.         -0.66666667 -0.4        -0.28571429 -0.22222222 -0.18181818\n",
            "  -0.15384615 -0.13333333]\n",
            " [ 2.         -2.         -0.66666667 -0.4        -0.28571429 -0.22222222\n",
            "  -0.18181818 -0.15384615]\n",
            " [ 0.66666667  2.         -2.         -0.66666667 -0.4        -0.28571429\n",
            "  -0.22222222 -0.18181818]\n",
            " [ 0.4         0.66666667  2.         -2.         -0.66666667 -0.4\n",
            "  -0.28571429 -0.22222222]\n",
            " [ 0.28571429  0.4         0.66666667  2.         -2.         -0.66666667\n",
            "  -0.4        -0.28571429]\n",
            " [ 0.22222222  0.28571429  0.4         0.66666667  2.         -2.\n",
            "  -0.66666667 -0.4       ]\n",
            " [ 0.18181818  0.22222222  0.28571429  0.4         0.66666667  2.\n",
            "  -2.         -0.66666667]\n",
            " [ 0.15384615  0.18181818  0.22222222  0.28571429  0.4         0.66666667\n",
            "   2.         -2.        ]]\n"
          ]
        }
      ],
      "source": [
        "X=np.arange(8)\n",
        "Y=X+0.5\n",
        "C=1.0/np.subtract.outer(X,Y)\n",
        "print(C)"
      ]
    },
    {
      "cell_type": "markdown",
      "metadata": {
        "id": "-kMMbjC10VLg"
      },
      "source": [
        "#### 48. Print the minimum and maximum representable value for each numpy scalar type (★★☆)"
      ]
    },
    {
      "cell_type": "code",
      "execution_count": null,
      "metadata": {
        "id": "uADsE5fX0VLh",
        "colab": {
          "base_uri": "https://localhost:8080/"
        },
        "outputId": "95ed5301-8e10-45f8-9a9a-97ec6f03a214"
      },
      "outputs": [
        {
          "output_type": "stream",
          "name": "stdout",
          "text": [
            "-3.4028235e+38\n",
            "3.4028235e+38\n",
            "-1.7976931348623157e+308\n",
            "1.7976931348623157e+308\n",
            "-128\n",
            "127\n",
            "-2147483648\n",
            "2147483647\n",
            "-9223372036854775808\n",
            "9223372036854775807\n"
          ]
        }
      ],
      "source": [
        "for dtype in [np.float32,np.float64]:\n",
        "  print(np.finfo(dtype).min)\n",
        "  print(np.finfo(dtype).max)\n",
        "for dtype in [np.int8,np.int32,np.int64]:\n",
        "  print(np.iinfo(dtype).min)\n",
        "  print(np.iinfo(dtype).max)\n"
      ]
    },
    {
      "cell_type": "markdown",
      "metadata": {
        "id": "iHLHh9ql0VLh"
      },
      "source": [
        "#### 49. How to print all the values of an array? (★★☆)"
      ]
    },
    {
      "cell_type": "code",
      "execution_count": null,
      "metadata": {
        "id": "Iy1dBkEk0VLh",
        "colab": {
          "base_uri": "https://localhost:8080/"
        },
        "outputId": "04bc89ab-79b3-4c0d-fc23-6fdeb6ed1b89"
      },
      "outputs": [
        {
          "output_type": "stream",
          "name": "stdout",
          "text": [
            "[[0. 0. 0. 0. 0.]\n",
            " [0. 0. 0. 0. 0.]\n",
            " [0. 0. 0. 0. 0.]\n",
            " [0. 0. 0. 0. 0.]\n",
            " [0. 0. 0. 0. 0.]]\n"
          ]
        }
      ],
      "source": [
        "np.set_printoptions()\n",
        "a=np.zeros((5,5))\n",
        "print(a)"
      ]
    },
    {
      "cell_type": "markdown",
      "metadata": {
        "id": "QfwEafiv0VLh"
      },
      "source": [
        "#### 50. How to find the closest value (to a given scalar) in a vector? (★★☆)"
      ]
    },
    {
      "cell_type": "code",
      "execution_count": null,
      "metadata": {
        "id": "Bs4k9kSM0VLh",
        "colab": {
          "base_uri": "https://localhost:8080/"
        },
        "outputId": "4fa8b415-ab5c-4900-d1eb-165db6119303"
      },
      "outputs": [
        {
          "output_type": "stream",
          "name": "stdout",
          "text": [
            "Value to compare:\n",
            "2.226460235948704\n",
            "2\n"
          ]
        }
      ],
      "source": [
        "x = np.arange(10)\n",
        "a = np.random.uniform(0, 10)\n",
        "\n",
        "# Displaying the value used for comparison\n",
        "print(\"Value to compare:\")\n",
        "print(a)\n",
        "\n",
        "# Finding the index of the element in array 'x' closest to the generated value 'a'\n",
        "index = (np.abs(x - a)).argmin()\n",
        "print(x[index])"
      ]
    },
    {
      "cell_type": "markdown",
      "metadata": {
        "id": "VMjaCdQa0VLi"
      },
      "source": [
        "#### 51. Create a structured array representing a position (x,y) and a color (r,g,b) (★★☆)"
      ]
    },
    {
      "cell_type": "code",
      "execution_count": null,
      "metadata": {
        "id": "02aDyWd20VLi",
        "colab": {
          "base_uri": "https://localhost:8080/"
        },
        "outputId": "1a3d8d7f-df68-485c-b63d-60d075e7512d"
      },
      "outputs": [
        {
          "output_type": "stream",
          "name": "stdout",
          "text": [
            "[((0., 0.), (0., 0., 0.)) ((0., 0.), (0., 0., 0.))\n",
            " ((0., 0.), (0., 0., 0.)) ((0., 0.), (0., 0., 0.))\n",
            " ((0., 0.), (0., 0., 0.)) ((0., 0.), (0., 0., 0.))\n",
            " ((0., 0.), (0., 0., 0.)) ((0., 0.), (0., 0., 0.))\n",
            " ((0., 0.), (0., 0., 0.)) ((0., 0.), (0., 0., 0.))]\n"
          ]
        },
        {
          "output_type": "stream",
          "name": "stderr",
          "text": [
            "<ipython-input-75-676c76bff536>:1: FutureWarning: Passing (type, 1) or '1type' as a synonym of type is deprecated; in a future version of numpy, it will be understood as (type, (1,)) / '(1,)type'.\n",
            "  poscolor=np.zeros(10,[('position',[('x',float,1),('y',float,1)]),('color',[('r',float,1),('g',float,1),('b',float,1)])])\n"
          ]
        }
      ],
      "source": [
        "poscolor=np.zeros(10,[('position',[('x',float,1),('y',float,1)]),('color',[('r',float,1),('g',float,1),('b',float,1)])])\n",
        "print(poscolor)"
      ]
    },
    {
      "cell_type": "markdown",
      "metadata": {
        "id": "Y8Aw3cHO0VLi"
      },
      "source": [
        "#### 52. Consider a random vector with shape (100,2) representing coordinates, find point by point distances (★★☆)"
      ]
    },
    {
      "cell_type": "code",
      "execution_count": null,
      "metadata": {
        "id": "aVlidXud0VLi",
        "colab": {
          "base_uri": "https://localhost:8080/"
        },
        "outputId": "b4b3e828-7d23-4c36-9742-e1efbcba6247"
      },
      "outputs": [
        {
          "output_type": "stream",
          "name": "stdout",
          "text": [
            "[[0.         0.56720526 0.95746097 ... 0.2590942  0.81402736 0.88915423]\n",
            " [0.56720526 0.         0.39542762 ... 0.46676691 0.32675836 0.33601798]\n",
            " [0.95746097 0.39542762 0.         ... 0.81329306 0.24817599 0.0819399 ]\n",
            " ...\n",
            " [0.2590942  0.46676691 0.81329306 ... 0.         0.62434136 0.73586578]\n",
            " [0.81402736 0.32675836 0.24817599 ... 0.62434136 0.         0.17103946]\n",
            " [0.88915423 0.33601798 0.0819399  ... 0.73586578 0.17103946 0.        ]]\n"
          ]
        }
      ],
      "source": [
        "y=np.random.random((100,2))\n",
        "X,Y=np.atleast_2d(y[:,0],y[:,1])\n",
        "dist=np.sqrt((X-X.T)**2+(Y-Y.T)**2)\n",
        "print(dist)"
      ]
    },
    {
      "cell_type": "markdown",
      "metadata": {
        "id": "e8dRvdj10VLj"
      },
      "source": [
        "#### 53. How to convert a float (32 bits) array into an integer (32 bits) in place?"
      ]
    },
    {
      "cell_type": "code",
      "execution_count": null,
      "metadata": {
        "id": "LNoqLJRx0VLj",
        "colab": {
          "base_uri": "https://localhost:8080/"
        },
        "outputId": "a97b1b83-b287-4093-e9aa-9bcb9f537eeb"
      },
      "outputs": [
        {
          "output_type": "stream",
          "name": "stdout",
          "text": [
            "int32\n"
          ]
        }
      ],
      "source": [
        "c=np.arange(10,dtype=np.float32)\n",
        "c=c.astype(np.int32,copy=False)\n",
        "print(c.dtype)"
      ]
    },
    {
      "cell_type": "markdown",
      "metadata": {
        "id": "Ipsg9vys0VLj"
      },
      "source": [
        "#### 54. How to read the following file? (★★☆)"
      ]
    },
    {
      "cell_type": "markdown",
      "metadata": {
        "id": "rd_rBIvM0VLj"
      },
      "source": [
        "```\n",
        "1, 2, 3, 4, 5\n",
        "6,  ,  , 7, 8\n",
        " ,  , 9,10,11\n",
        "```"
      ]
    },
    {
      "cell_type": "code",
      "execution_count": null,
      "metadata": {
        "id": "7NDJgirV0VLk",
        "colab": {
          "base_uri": "https://localhost:8080/"
        },
        "outputId": "b16429d2-dbcf-45b2-e4ce-5bd033204639"
      },
      "outputs": [
        {
          "output_type": "stream",
          "name": "stdout",
          "text": [
            "[[ 1  2  3  4  5]\n",
            " [ 6 -1 -1  7  8]\n",
            " [-1 -1  9 10 11]]\n"
          ]
        }
      ],
      "source": [
        "from io import StringIO\n",
        "s = StringIO(\"\"\"1, 2, 3, 4, 5\\n\n",
        "                6,  ,  , 7, 8\\n\n",
        "                 ,  , 9,10,11\\n\"\"\")\n",
        "N = np.genfromtxt(s, delimiter=\",\", dtype=np.int32)\n",
        "print(N)"
      ]
    },
    {
      "cell_type": "markdown",
      "metadata": {
        "id": "zvqrffYi0VLk"
      },
      "source": [
        "#### 55. What is the equivalent of enumerate for numpy arrays? (★★☆)"
      ]
    },
    {
      "cell_type": "code",
      "execution_count": null,
      "metadata": {
        "id": "wucZ_UnX0VLl",
        "colab": {
          "base_uri": "https://localhost:8080/"
        },
        "outputId": "ca95289c-212a-46df-d005-f6f825374903"
      },
      "outputs": [
        {
          "output_type": "stream",
          "name": "stdout",
          "text": [
            "(0, 0) 0\n",
            "(0, 1) 1\n",
            "(1, 0) 2\n",
            "(1, 1) 3\n",
            "(2, 0) 4\n",
            "(2, 1) 5\n",
            "(0, 0)\n",
            "(0, 1)\n",
            "(1, 0)\n",
            "(1, 1)\n",
            "(2, 0)\n",
            "(2, 1)\n"
          ]
        }
      ],
      "source": [
        "S=np.arange(6).reshape(3,2)\n",
        "for index,value in np.ndenumerate(S):\n",
        "  print(index , value)\n",
        "for index in np.ndindex(S.shape):\n",
        "  print(index)"
      ]
    },
    {
      "cell_type": "markdown",
      "metadata": {
        "id": "uC_kevnx0VLl"
      },
      "source": [
        "#### 56. Generate a generic 2D Gaussian-like array (★★☆)"
      ]
    },
    {
      "cell_type": "code",
      "execution_count": null,
      "metadata": {
        "id": "rxxaoGLF0VLl",
        "colab": {
          "base_uri": "https://localhost:8080/"
        },
        "outputId": "8e5eb0e5-6f3d-4b03-9372-e85ff66def0f"
      },
      "outputs": [
        {
          "output_type": "stream",
          "name": "stdout",
          "text": [
            "[[0.01831564 0.0403616  0.07300087 0.10836802 0.13203459 0.13203459\n",
            "  0.10836802 0.07300087 0.0403616  0.01831564]\n",
            " [0.0403616  0.08894358 0.16086971 0.2388072  0.29096046 0.29096046\n",
            "  0.2388072  0.16086971 0.08894358 0.0403616 ]\n",
            " [0.07300087 0.16086971 0.29096046 0.43192377 0.52625189 0.52625189\n",
            "  0.43192377 0.29096046 0.16086971 0.07300087]\n",
            " [0.10836802 0.2388072  0.43192377 0.64118039 0.7812082  0.7812082\n",
            "  0.64118039 0.43192377 0.2388072  0.10836802]\n",
            " [0.13203459 0.29096046 0.52625189 0.7812082  0.95181678 0.95181678\n",
            "  0.7812082  0.52625189 0.29096046 0.13203459]\n",
            " [0.13203459 0.29096046 0.52625189 0.7812082  0.95181678 0.95181678\n",
            "  0.7812082  0.52625189 0.29096046 0.13203459]\n",
            " [0.10836802 0.2388072  0.43192377 0.64118039 0.7812082  0.7812082\n",
            "  0.64118039 0.43192377 0.2388072  0.10836802]\n",
            " [0.07300087 0.16086971 0.29096046 0.43192377 0.52625189 0.52625189\n",
            "  0.43192377 0.29096046 0.16086971 0.07300087]\n",
            " [0.0403616  0.08894358 0.16086971 0.2388072  0.29096046 0.29096046\n",
            "  0.2388072  0.16086971 0.08894358 0.0403616 ]\n",
            " [0.01831564 0.0403616  0.07300087 0.10836802 0.13203459 0.13203459\n",
            "  0.10836802 0.07300087 0.0403616  0.01831564]]\n"
          ]
        }
      ],
      "source": [
        "X,Y=np.meshgrid(np.linspace(-2,2,10),np.linspace(-2,2,10))\n",
        "D=np.sqrt(X*X+Y*Y)\n",
        "sigma,mu=1.0,0.0\n",
        "G=np.exp(-((D-mu)**2)/(2.0*sigma**2))\n",
        "print(G)"
      ]
    },
    {
      "cell_type": "markdown",
      "metadata": {
        "id": "Kqnh9Myz0VLl"
      },
      "source": [
        "#### 57. How to randomly place p elements in a 2D array? (★★☆)"
      ]
    },
    {
      "cell_type": "code",
      "execution_count": null,
      "metadata": {
        "id": "V-6Fcq4Y0VLm",
        "colab": {
          "base_uri": "https://localhost:8080/"
        },
        "outputId": "2d226f92-37bc-4156-b95d-9ee0a1f616a3"
      },
      "outputs": [
        {
          "output_type": "stream",
          "name": "stdout",
          "text": [
            "[[0. 0. 0. 0. 0. 0. 0. 0. 0.]\n",
            " [0. 0. 0. 0. 0. 0. 0. 0. 0.]\n",
            " [1. 0. 0. 0. 0. 0. 0. 0. 0.]\n",
            " [0. 0. 0. 0. 0. 0. 0. 0. 0.]\n",
            " [0. 0. 0. 0. 0. 0. 0. 1. 0.]\n",
            " [0. 0. 0. 0. 0. 0. 0. 0. 0.]\n",
            " [0. 0. 0. 0. 0. 0. 0. 0. 0.]\n",
            " [0. 0. 0. 1. 0. 0. 0. 1. 0.]\n",
            " [0. 0. 0. 0. 0. 0. 0. 0. 0.]]\n"
          ]
        }
      ],
      "source": [
        "n=9\n",
        "p=4\n",
        "D=np.zeros((n,n))\n",
        "np.put(D,np.random.choice(range(n*n),p,replace=False),1)\n",
        "print(D)"
      ]
    },
    {
      "cell_type": "markdown",
      "metadata": {
        "id": "1UatJcrU0VLm"
      },
      "source": [
        "#### 58. Subtract the mean of each row of a matrix (★★☆)"
      ]
    },
    {
      "cell_type": "code",
      "execution_count": null,
      "metadata": {
        "id": "Tgd6C3-u0VLm",
        "colab": {
          "base_uri": "https://localhost:8080/"
        },
        "outputId": "de30f845-0713-4935-b7a8-caa5852c8b7c"
      },
      "outputs": [
        {
          "output_type": "stream",
          "name": "stdout",
          "text": [
            "[[ 0.21052093 -0.1934467  -0.03657898 -0.24757765 -0.3523311   0.42424171\n",
            "   0.36261652 -0.21051657  0.08136239 -0.03829054]\n",
            " [-0.37736027  0.20350264  0.52194589 -0.30232753 -0.34927835  0.19654788\n",
            "   0.28015641  0.51702248 -0.37205643 -0.31815272]\n",
            " [-0.52984823  0.21109025  0.26815678 -0.57597915 -0.14564595  0.2238758\n",
            "   0.39299892 -0.05580604  0.26498933 -0.05383172]\n",
            " [-0.05597421  0.15972835  0.25436506 -0.31523137 -0.01587138 -0.02898537\n",
            "   0.33354349  0.2192474   0.07043682 -0.62125878]\n",
            " [-0.31511759  0.21183196  0.3285641   0.33200583 -0.39916937 -0.37025015\n",
            "  -0.35792847  0.33567333 -0.17875775  0.41314811]]\n"
          ]
        }
      ],
      "source": [
        "X=np.random.rand(5,10)\n",
        "Y=X-X.mean(axis=1,keepdims=True)\n",
        "print(Y)"
      ]
    },
    {
      "cell_type": "markdown",
      "metadata": {
        "id": "Fdfr2UVg0VLm"
      },
      "source": [
        "#### 59. How to sort an array by the nth column? (★★☆)"
      ]
    },
    {
      "cell_type": "code",
      "execution_count": null,
      "metadata": {
        "id": "ofOfiR6r0VLm",
        "colab": {
          "base_uri": "https://localhost:8080/"
        },
        "outputId": "f063a90f-49fd-4505-9439-ac5c005d233e"
      },
      "outputs": [
        {
          "output_type": "stream",
          "name": "stdout",
          "text": [
            "[[5 3 9]\n",
            " [4 4 3]\n",
            " [0 5 3]]\n",
            "[[0 5 3]\n",
            " [4 4 3]\n",
            " [5 3 9]]\n"
          ]
        }
      ],
      "source": [
        "N=np.random.randint(0,10,(3,3))\n",
        "print(N)\n",
        "print(N[N[:,0].argsort()])"
      ]
    },
    {
      "cell_type": "markdown",
      "metadata": {
        "id": "Sn7lu_nf0VLm"
      },
      "source": [
        "#### 60. How to tell if a given 2D array has null columns? (★★☆)"
      ]
    },
    {
      "cell_type": "code",
      "execution_count": null,
      "metadata": {
        "id": "ThWToITo0VLn",
        "colab": {
          "base_uri": "https://localhost:8080/"
        },
        "outputId": "0cecc2f8-5bdf-44e8-822d-6ea7d522cfc4"
      },
      "outputs": [
        {
          "output_type": "stream",
          "name": "stdout",
          "text": [
            "True\n"
          ]
        }
      ],
      "source": [
        "arr1 = np.random.randint(0,3,(3,10))\n",
        "print((~arr1.any(axis=0)).any())"
      ]
    },
    {
      "cell_type": "markdown",
      "metadata": {
        "id": "k6piY2Bi0VLn"
      },
      "source": [
        "#### 61. Find the nearest value from a given value in an array (★★☆)"
      ]
    },
    {
      "cell_type": "code",
      "execution_count": null,
      "metadata": {
        "id": "pbbEPuyD0VLn",
        "colab": {
          "base_uri": "https://localhost:8080/"
        },
        "outputId": "5f96c680-1c8f-449d-ad1b-72f60dab59ff"
      },
      "outputs": [
        {
          "output_type": "stream",
          "name": "stdout",
          "text": [
            "0.5303661293686084\n"
          ]
        }
      ],
      "source": [
        "arr2=np.random.uniform(0,2,10)\n",
        "x=0.5\n",
        "m=arr2.flat[np.abs(arr2-x).argmin()]\n",
        "print(m)"
      ]
    },
    {
      "cell_type": "markdown",
      "metadata": {
        "id": "S299cKJD0VLn"
      },
      "source": [
        "#### 62. Considering two arrays with shape (1,3) and (3,1), how to compute their sum using an iterator? (★★☆)"
      ]
    },
    {
      "cell_type": "code",
      "execution_count": null,
      "metadata": {
        "id": "oZJKnYCU0VLo",
        "colab": {
          "base_uri": "https://localhost:8080/"
        },
        "outputId": "da22e8c9-b5bd-4ab9-d2cd-4d649c183564"
      },
      "outputs": [
        {
          "output_type": "stream",
          "name": "stdout",
          "text": [
            "[[0 1 2]\n",
            " [1 2 3]\n",
            " [2 3 4]]\n"
          ]
        }
      ],
      "source": [
        "A=np.arange(3).reshape(1,3)\n",
        "B=np.arange(3).reshape(3,1)\n",
        "it=np.nditer([A,B,None])\n",
        "for x,y,z in it:\n",
        "  z[...]=x+y\n",
        "print(it.operands[2])"
      ]
    },
    {
      "cell_type": "markdown",
      "metadata": {
        "id": "LDiRwtrg0VLo"
      },
      "source": [
        "#### 63. Create an array class that has a name attribute (★★☆)"
      ]
    },
    {
      "cell_type": "code",
      "execution_count": null,
      "metadata": {
        "id": "lpeHPlLx0VLo",
        "colab": {
          "base_uri": "https://localhost:8080/"
        },
        "outputId": "0c30af82-8297-421f-b096-b166c66ba1bd"
      },
      "outputs": [
        {
          "output_type": "stream",
          "name": "stdout",
          "text": [
            "Diksha\n"
          ]
        }
      ],
      "source": [
        "class ArrayName(np.ndarray):\n",
        "  def __new__(cls,array,name=\"no name\"):\n",
        "    obj=np.asarray(array).view(cls)\n",
        "    obj.name=name\n",
        "    return obj\n",
        "  def __array_finalize__(self,obj):\n",
        "    if obj is None:return\n",
        "    self.info=getattr(obj,'name','no name')\n",
        "\n",
        "A=ArrayName(np.arange(10),'Diksha')\n",
        "print(A.name)\n"
      ]
    },
    {
      "cell_type": "markdown",
      "metadata": {
        "id": "4yvugT3I0VLo"
      },
      "source": [
        "#### 64. Consider a given vector, how to add 1 to each element indexed by a second vector (be careful with repeated indices)? (★★★)"
      ]
    },
    {
      "cell_type": "code",
      "execution_count": null,
      "metadata": {
        "id": "5uqK--Fg0VLo",
        "colab": {
          "base_uri": "https://localhost:8080/"
        },
        "outputId": "ebc46652-81d8-498c-a372-2f5a395e67fb"
      },
      "outputs": [
        {
          "output_type": "stream",
          "name": "stdout",
          "text": [
            "[4. 1. 3. 4. 3. 3. 2. 4. 3. 3.]\n"
          ]
        }
      ],
      "source": [
        "A=np.ones(10)\n",
        "B=np.random.randint(0,len(A),20)\n",
        "np.add.at(A,B,1)\n",
        "print(A)"
      ]
    },
    {
      "cell_type": "markdown",
      "metadata": {
        "id": "_LWhPdOy0VLo"
      },
      "source": [
        "#### 65. How to accumulate elements of a vector (X) to an array (F) based on an index list (I)? (★★★)"
      ]
    },
    {
      "cell_type": "code",
      "execution_count": null,
      "metadata": {
        "id": "IagiPi7j0VLo",
        "colab": {
          "base_uri": "https://localhost:8080/"
        },
        "outputId": "7cba8740-eeb4-47c4-ec0f-b9b0c9c487f3"
      },
      "outputs": [
        {
          "output_type": "stream",
          "name": "stdout",
          "text": [
            "[12.  0.  9.  0.  0.  0.  5.  4.  4.  1.]\n"
          ]
        }
      ],
      "source": [
        "X=[2,8,9,0,2,6,7,0]\n",
        "Y=[3,4,1,9,6,5,4,3]\n",
        "I=np.bincount(X,Y)\n",
        "print(I)"
      ]
    },
    {
      "cell_type": "markdown",
      "metadata": {
        "id": "KJuBr4Uo0VLp"
      },
      "source": [
        "#### 66. Considering a (w,h,3) image of (dtype=ubyte), compute the number of unique colors (★★★)"
      ]
    },
    {
      "cell_type": "code",
      "execution_count": null,
      "metadata": {
        "id": "cyn7vuoF0VLp",
        "colab": {
          "base_uri": "https://localhost:8080/"
        },
        "outputId": "60498ad5-1536-4137-ebfd-7c2bd2ec4bda"
      },
      "outputs": [
        {
          "output_type": "stream",
          "name": "stdout",
          "text": [
            "4\n"
          ]
        }
      ],
      "source": [
        "w,h=4,4\n",
        "I=np.random.randint(0,2,(h,w,3)).astype(np.ubyte)\n",
        "F=I[...,0]*256*256+I[...,1]*256+I[...,2]\n",
        "n=len(np.unique(F))\n",
        "print(n)"
      ]
    },
    {
      "cell_type": "markdown",
      "metadata": {
        "id": "PWN68J0m0VLp"
      },
      "source": [
        "#### 67. Considering a four dimensions array, how to get sum over the last two axis at once? (★★★)"
      ]
    },
    {
      "cell_type": "code",
      "execution_count": null,
      "metadata": {
        "id": "wAU_HMZY0VLp",
        "colab": {
          "base_uri": "https://localhost:8080/"
        },
        "outputId": "9472725a-33ea-4a50-f1bb-61e429f39453"
      },
      "outputs": [
        {
          "output_type": "stream",
          "name": "stdout",
          "text": [
            "[[72 69 62 65]\n",
            " [48 49 66 72]\n",
            " [60 62 46 45]]\n"
          ]
        }
      ],
      "source": [
        "A=np.random.randint(0,10,(3,4,3,4))\n",
        "sum = A.reshape(A.shape[:-2] + (-1,)).sum(axis=-1)\n",
        "print(sum)\n"
      ]
    },
    {
      "cell_type": "markdown",
      "metadata": {
        "id": "L0rHMQL00VLp"
      },
      "source": [
        "#### 68. Considering a one-dimensional vector D, how to compute means of subsets of D using a vector S of same size describing subset  indices? (★★★)"
      ]
    },
    {
      "cell_type": "code",
      "execution_count": null,
      "metadata": {
        "id": "Nvj92YQB0VLq",
        "colab": {
          "base_uri": "https://localhost:8080/"
        },
        "outputId": "ae8c1c41-6f31-4a8e-c2b1-9bbc04a83636"
      },
      "outputs": [
        {
          "output_type": "stream",
          "name": "stdout",
          "text": [
            "[0.71436761 0.27971573 0.5693769  0.41378303 0.29652434 0.45402277\n",
            " 0.75108818 0.49742956 0.43391348 0.55624292]\n",
            "0    0.714368\n",
            "1    0.279716\n",
            "2    0.569377\n",
            "3    0.413783\n",
            "4    0.296524\n",
            "5    0.454023\n",
            "6    0.751088\n",
            "7    0.497430\n",
            "8    0.433913\n",
            "9    0.556243\n",
            "dtype: float64\n"
          ]
        }
      ],
      "source": [
        "\n",
        "D = np.random.uniform(0,1,100)\n",
        "S = np.random.randint(0,10,100)\n",
        "D_sums = np.bincount(S, weights=D)\n",
        "D_counts = np.bincount(S)\n",
        "D_means = D_sums / D_counts\n",
        "print(D_means)\n",
        "\n",
        "# Pandas solution as a reference due to more intuitive code\n",
        "import pandas as pd\n",
        "print(pd.Series(D).groupby(S).mean())"
      ]
    },
    {
      "cell_type": "markdown",
      "metadata": {
        "id": "yn2VxFSS0VLq"
      },
      "source": [
        "#### 69. How to get the diagonal of a dot product? (★★★)"
      ]
    },
    {
      "cell_type": "code",
      "execution_count": null,
      "metadata": {
        "id": "Eqaxt5d70VLq",
        "colab": {
          "base_uri": "https://localhost:8080/"
        },
        "outputId": "7dbf5c5f-ab65-4c40-f04d-41ca072a3b4a"
      },
      "outputs": [
        {
          "output_type": "execute_result",
          "data": {
            "text/plain": [
              "array([ 60.34528651, 183.18823045,  67.09852283, 205.64080333,\n",
              "        85.6719658 ])"
            ]
          },
          "metadata": {},
          "execution_count": 103
        }
      ],
      "source": [
        "A=np.random.uniform(0,10,(5,5))\n",
        "B=np.random.uniform(0,10,(5,5))\n",
        "np.diag(np.dot(A,B))"
      ]
    },
    {
      "cell_type": "markdown",
      "metadata": {
        "id": "tUp70b2J0VLq"
      },
      "source": [
        "#### 70. Consider the vector \\[1, 2, 3, 4, 5\\], how to build a new vector with 3 consecutive zeros interleaved between each value? (★★★)"
      ]
    },
    {
      "cell_type": "code",
      "execution_count": null,
      "metadata": {
        "id": "awWGhi1D0VLq",
        "colab": {
          "base_uri": "https://localhost:8080/"
        },
        "outputId": "46888022-3d6e-43b9-c1cf-40ca2f7896d3"
      },
      "outputs": [
        {
          "output_type": "stream",
          "name": "stdout",
          "text": [
            "[1. 0. 0. 0. 2. 0. 0. 0. 3. 0. 0. 0. 4. 0. 0. 0. 5. 0. 0. 0.]\n"
          ]
        }
      ],
      "source": [
        "Z=np.array([1,2,3,4,5])\n",
        "Z0=np.zeros(len(Z)+3*len(Z-1))\n",
        "Z0[::4]=Z\n",
        "print(Z0)"
      ]
    },
    {
      "cell_type": "markdown",
      "metadata": {
        "id": "hD6aoEgv0VLq"
      },
      "source": [
        "#### 71. Consider an array of dimension (5,5,3), how to mulitply it by an array with dimensions (5,5)? (★★★)"
      ]
    },
    {
      "cell_type": "code",
      "execution_count": null,
      "metadata": {
        "collapsed": true,
        "id": "vSVApY-D0VLr",
        "colab": {
          "base_uri": "https://localhost:8080/"
        },
        "outputId": "9dc51ec3-ef80-4f56-926c-1676ebbb824f"
      },
      "outputs": [
        {
          "output_type": "stream",
          "name": "stdout",
          "text": [
            "[[[2. 2. 2.]\n",
            "  [2. 2. 2.]\n",
            "  [2. 2. 2.]\n",
            "  [2. 2. 2.]\n",
            "  [2. 2. 2.]]\n",
            "\n",
            " [[2. 2. 2.]\n",
            "  [2. 2. 2.]\n",
            "  [2. 2. 2.]\n",
            "  [2. 2. 2.]\n",
            "  [2. 2. 2.]]\n",
            "\n",
            " [[2. 2. 2.]\n",
            "  [2. 2. 2.]\n",
            "  [2. 2. 2.]\n",
            "  [2. 2. 2.]\n",
            "  [2. 2. 2.]]\n",
            "\n",
            " [[2. 2. 2.]\n",
            "  [2. 2. 2.]\n",
            "  [2. 2. 2.]\n",
            "  [2. 2. 2.]\n",
            "  [2. 2. 2.]]\n",
            "\n",
            " [[2. 2. 2.]\n",
            "  [2. 2. 2.]\n",
            "  [2. 2. 2.]\n",
            "  [2. 2. 2.]\n",
            "  [2. 2. 2.]]]\n"
          ]
        }
      ],
      "source": [
        "A=np.ones((5,5,3))\n",
        "B=2*np.ones((5,5))\n",
        "print(A*B[:,:,None])"
      ]
    },
    {
      "cell_type": "markdown",
      "metadata": {
        "id": "f9hpgBNM0VLr"
      },
      "source": [
        "#### 72. How to swap two rows of an array? (★★★)"
      ]
    },
    {
      "cell_type": "code",
      "execution_count": null,
      "metadata": {
        "id": "ttYukCmN0VLr",
        "colab": {
          "base_uri": "https://localhost:8080/"
        },
        "outputId": "0f07b46c-fb1d-4f2a-b357-02c3de767ae9"
      },
      "outputs": [
        {
          "output_type": "stream",
          "name": "stdout",
          "text": [
            "[[ 4  5  6  7]\n",
            " [ 0  1  2  3]\n",
            " [ 8  9 10 11]\n",
            " [12 13 14 15]]\n"
          ]
        }
      ],
      "source": [
        "A=np.arange(16).reshape(4,4)\n",
        "A[[0,1]]=A[[1,0]]\n",
        "print(A)"
      ]
    },
    {
      "cell_type": "markdown",
      "metadata": {
        "id": "9YFubExp0VLr"
      },
      "source": [
        "#### 73. Consider a set of 10 triplets describing 10 triangles (with shared vertices), find the set of unique line segments composing all the  triangles (★★★)"
      ]
    },
    {
      "cell_type": "code",
      "execution_count": null,
      "metadata": {
        "id": "FtZUrNcW0VLs",
        "colab": {
          "base_uri": "https://localhost:8080/"
        },
        "outputId": "ac946b18-fe4d-450a-d05d-96375d7fef72"
      },
      "outputs": [
        {
          "output_type": "stream",
          "name": "stdout",
          "text": [
            "[( 0, 73) ( 0, 90) ( 5, 64) ( 5, 97) ( 6, 27) ( 6, 52) ( 6, 66) ( 6, 76)\n",
            " (11, 42) (11, 46) (12, 66) (12, 95) (14, 48) (14, 67) (18, 39) (18, 99)\n",
            " (27, 66) (28, 57) (28, 67) (39, 99) (42, 46) (48, 67) (52, 76) (57, 67)\n",
            " (63, 64) (63, 95) (64, 95) (64, 97) (66, 95) (73, 90)]\n"
          ]
        }
      ],
      "source": [
        "faces = np.random.randint(0,100,(10,3))\n",
        "F = np.roll(faces.repeat(2,axis=1),-1,axis=1)\n",
        "F = F.reshape(len(F)*3,2)\n",
        "F = np.sort(F,axis=1)\n",
        "G = F.view( dtype=[('p0',F.dtype),('p1',F.dtype)] )\n",
        "G = np.unique(G)\n",
        "print(G)"
      ]
    },
    {
      "cell_type": "markdown",
      "metadata": {
        "id": "1VKm5gue0VLs"
      },
      "source": [
        "#### 74. Given an array C that is a bincount, how to produce an array A such that np.bincount(A) == C? (★★★)"
      ]
    },
    {
      "cell_type": "code",
      "execution_count": null,
      "metadata": {
        "id": "Gh6Rtn9k0VLs",
        "colab": {
          "base_uri": "https://localhost:8080/"
        },
        "outputId": "2c632037-7d31-4921-be5e-897f46b4ff1b"
      },
      "outputs": [
        {
          "output_type": "stream",
          "name": "stdout",
          "text": [
            "[1 2 4 6 7 9]\n"
          ]
        }
      ],
      "source": [
        "C=np.bincount([2,1,9,7,4,6])\n",
        "A=np.repeat(np.arange(len(C)),C)\n",
        "print(A)"
      ]
    },
    {
      "cell_type": "markdown",
      "metadata": {
        "id": "IRqDvUbd0VLs"
      },
      "source": [
        "#### 75. How to compute averages using a sliding window over an array? (★★★)"
      ]
    },
    {
      "cell_type": "code",
      "execution_count": null,
      "metadata": {
        "id": "QYCr9tfs0VLs",
        "colab": {
          "base_uri": "https://localhost:8080/"
        },
        "outputId": "59976e8a-8649-4444-c90f-e6f0f13b6606"
      },
      "outputs": [
        {
          "output_type": "stream",
          "name": "stdout",
          "text": [
            "[ 1.  2.  3.  4.  5.  6.  7.  8.  9. 10. 11. 12. 13. 14. 15. 16. 17. 18.]\n"
          ]
        }
      ],
      "source": [
        "def sliding_window(arr,n):\n",
        "  ret = np.cumsum(arr, dtype=float)\n",
        "  ret[n:] = ret[n:] - ret[:-n]\n",
        "  return ret[n - 1:] / n\n",
        "A=np.arange(20)\n",
        "print(sliding_window(A,3))"
      ]
    },
    {
      "cell_type": "markdown",
      "metadata": {
        "id": "dEwEW21A0VLs"
      },
      "source": [
        "#### 76. Consider a one-dimensional array Z, build a two-dimensional array whose first row is (Z\\[0\\],Z\\[1\\],Z\\[2\\]) and each subsequent row is  shifted by 1 (last row should be (Z\\[-3\\],Z\\[-2\\],Z\\[-1\\]) (★★★)"
      ]
    },
    {
      "cell_type": "code",
      "execution_count": null,
      "metadata": {
        "id": "HbWQutx70VLt",
        "colab": {
          "base_uri": "https://localhost:8080/"
        },
        "outputId": "18a553c7-4196-4be2-c5bf-0e8005b00b52"
      },
      "outputs": [
        {
          "output_type": "stream",
          "name": "stdout",
          "text": [
            "[[0 1 2]\n",
            " [1 2 3]\n",
            " [2 3 4]\n",
            " [3 4 5]\n",
            " [4 5 6]\n",
            " [5 6 7]\n",
            " [6 7 8]\n",
            " [7 8 9]]\n"
          ]
        }
      ],
      "source": [
        "from numpy.lib import stride_tricks\n",
        "\n",
        "def rolling(a, window):\n",
        "    shape = (a.size - window + 1, window)\n",
        "    strides = (a.itemsize, a.itemsize)\n",
        "    return stride_tricks.as_strided(a, shape=shape, strides=strides)\n",
        "Z = rolling(np.arange(10), 3)\n",
        "print(Z)"
      ]
    },
    {
      "cell_type": "markdown",
      "metadata": {
        "id": "7jzzZBEK0VLt"
      },
      "source": [
        "#### 77. How to negate a boolean, or to change the sign of a float inplace? (★★★)"
      ]
    },
    {
      "cell_type": "code",
      "execution_count": null,
      "metadata": {
        "id": "YtY8X-ni0VLt",
        "colab": {
          "base_uri": "https://localhost:8080/"
        },
        "outputId": "8ab75e58-da59-474e-aafa-d6fb23ff504d"
      },
      "outputs": [
        {
          "output_type": "execute_result",
          "data": {
            "text/plain": [
              "array([-0.63445517,  0.23764792, -0.45963434,  0.39267477, -0.90352134,\n",
              "       -0.30512068, -0.0637841 , -0.58918558, -0.73266504, -0.16795436,\n",
              "       -0.72361942,  0.17034039, -0.9261892 ,  0.85581595, -0.41494256,\n",
              "       -0.01283907, -0.15153134,  0.01772037,  0.9442893 ,  0.56858676,\n",
              "       -0.9533209 , -0.88366747, -0.51523057, -0.44735594,  0.7304002 ,\n",
              "       -0.41953746,  0.52282616,  0.98147173,  0.39217514, -0.15549531,\n",
              "       -0.2993903 , -0.01587879, -0.71101867, -0.9025181 , -0.13843648,\n",
              "       -0.39615737, -0.71067088,  0.32055932,  0.81051241, -0.28636287,\n",
              "        0.44802942,  0.88389215,  0.64550975, -0.81702284, -0.08155094,\n",
              "       -0.85695364, -0.93742634, -0.11626232, -0.7098202 , -0.62691161,\n",
              "       -0.79231452,  0.90612005, -0.66505699,  0.25156006, -0.29196744,\n",
              "        0.86251899, -0.52702567,  0.69607377, -0.59615446, -0.9136153 ,\n",
              "       -0.86703154,  0.66281248,  0.5840259 ,  0.24516498, -0.64747127,\n",
              "        0.34411487, -0.69765588, -0.64947211, -0.41868289, -0.07238033,\n",
              "        0.30181403, -0.61500281, -0.93227962,  0.65677779,  0.74215068,\n",
              "        0.22720076,  0.31476949, -0.7034777 , -0.3409956 , -0.4394118 ,\n",
              "       -0.75606385,  0.53460105, -0.54354005, -0.09297996, -0.52196188,\n",
              "       -0.57014379,  0.3849529 ,  0.96140757,  0.50475925, -0.16663637,\n",
              "       -0.48819815,  0.95070333, -0.33600789,  0.54392034,  0.57781696,\n",
              "        0.37872912,  0.59637833, -0.33085279,  0.17921853, -0.18473101])"
            ]
          },
          "metadata": {},
          "execution_count": 112
        }
      ],
      "source": [
        "Z = np.random.randint(0,2,100)\n",
        "np.logical_not(Z, out=Z)\n",
        "\n",
        "Z = np.random.uniform(-1.0,1.0,100)\n",
        "np.negative(Z, out=Z)"
      ]
    },
    {
      "cell_type": "markdown",
      "metadata": {
        "id": "cgTuYV-M0VLt"
      },
      "source": [
        "#### 78. Consider 2 sets of points P0,P1 describing lines (2d) and a point p, how to compute distance from p to each line i  (P0\\[i\\],P1\\[i\\])? (★★★)"
      ]
    },
    {
      "cell_type": "code",
      "execution_count": null,
      "metadata": {
        "id": "td_3RvnN0VLt",
        "colab": {
          "base_uri": "https://localhost:8080/"
        },
        "outputId": "d2f72b14-7c17-41e8-8e48-ae1fa54f65e1"
      },
      "outputs": [
        {
          "output_type": "stream",
          "name": "stdout",
          "text": [
            "[1.06565673 6.50965509 5.95414222 7.49142731 3.36022108 1.01429511\n",
            " 9.36711391 2.55836473 3.10822082 3.61637033]\n"
          ]
        }
      ],
      "source": [
        "def distance(P0, P1, p):\n",
        "    T = P1 - P0\n",
        "    L = (T**2).sum(axis=1)\n",
        "    U = -((P0[:,0]-p[...,0])*T[:,0] + (P0[:,1]-p[...,1])*T[:,1]) / L\n",
        "    U = U.reshape(len(U),1)\n",
        "    D = P0 + U*T - p\n",
        "    return np.sqrt((D**2).sum(axis=1))\n",
        "\n",
        "P0 = np.random.uniform(-10,10,(10,2))\n",
        "P1 = np.random.uniform(-10,10,(10,2))\n",
        "p  = np.random.uniform(-10,10,( 1,2))\n",
        "print(distance(P0, P1, p))"
      ]
    },
    {
      "cell_type": "markdown",
      "metadata": {
        "id": "lywg7Ssb0VLt"
      },
      "source": [
        "#### 79. Consider 2 sets of points P0,P1 describing lines (2d) and a set of points P, how to compute distance from each point j (P\\[j\\]) to each line i (P0\\[i\\],P1\\[i\\])? (★★★)"
      ]
    },
    {
      "cell_type": "code",
      "execution_count": null,
      "metadata": {
        "id": "PEAf0jXE0VLu",
        "colab": {
          "base_uri": "https://localhost:8080/"
        },
        "outputId": "9fa7592b-34ea-4f09-d71d-8533309b2384"
      },
      "outputs": [
        {
          "output_type": "stream",
          "name": "stdout",
          "text": [
            "[[ 2.02539023  1.34408278  0.72669492  7.62396299  1.1447574   4.22748795\n",
            "   5.19386159  1.29391334  0.75937261  7.88611234]\n",
            " [ 2.1911924   0.35284871  0.55661693  3.00198683  4.510776    1.78704045\n",
            "   0.6427658   0.38614737  4.0162063   6.81204808]\n",
            " [ 5.14227537  1.67670621  0.61085793  0.11128107  7.40896607  0.91559592\n",
            "   0.59297178  2.86054909  6.89719877  4.55391762]\n",
            " [ 1.58982756  7.3835593   8.43892501  2.31761027  1.9129148   6.0186477\n",
            "   6.31990291  4.92376354  1.20269732 12.84709269]\n",
            " [ 1.31444365  4.35114112  5.31677608  3.12560959  2.49089029  4.71503792\n",
            "   3.15521074  3.1234262   1.87490767 10.7014505 ]\n",
            " [ 2.64952059  8.73604454  7.99698529  3.94772716  7.15929186  2.66405533\n",
            "   8.35227471  6.03371098  6.9020706   0.35562652]\n",
            " [ 3.02790522  4.36820572  5.44334648  1.31319867  3.96241279  3.53317284\n",
            "   4.63189652  2.19244464  3.31338319  9.97698514]\n",
            " [ 6.5981214   4.86388342  3.78121956  0.88259022  9.51996291  3.49811869\n",
            "   1.24591365  5.71222533  9.07408916  1.54787495]\n",
            " [ 2.66806175  6.04112849  5.57648916  9.10373921  1.85382865  2.35839807\n",
            "  10.27996562  1.37589912  1.6185134   4.65561607]\n",
            " [ 0.24228604  7.39588293  8.33488771  4.25031145  0.33127563  7.29742359\n",
            "   4.77049865  5.9388882   0.34450372 13.64454981]]\n"
          ]
        }
      ],
      "source": [
        "#P0 P1 from prev question and generated a set of p  points in this question\n",
        "p = np.random.uniform(-10, 10, (10,2))\n",
        "print(np.array([distance(P0,P1,p_i) for p_i in p]))"
      ]
    },
    {
      "cell_type": "markdown",
      "metadata": {
        "id": "Xl_eUfrC0VLu"
      },
      "source": [
        "#### 80. Consider an arbitrary array, write a function that extract a subpart with a fixed shape and centered on a given element (pad with a `fill` value when necessary) (★★★)"
      ]
    },
    {
      "cell_type": "code",
      "execution_count": null,
      "metadata": {
        "id": "_3Z6Vf2L0VLu",
        "colab": {
          "base_uri": "https://localhost:8080/"
        },
        "outputId": "8e6fbd88-789f-442e-85a1-0f9e2ffcafba"
      },
      "outputs": [
        {
          "output_type": "stream",
          "name": "stdout",
          "text": [
            "[[ 6  7  8]\n",
            " [11 12 13]\n",
            " [16 17 18]]\n"
          ]
        }
      ],
      "source": [
        "def extract_subarray(arr, center, shape, fill_value=0):\n",
        "    # Get the shape of the input array\n",
        "    arr_shape = np.array(arr.shape)\n",
        "\n",
        "    # Calculate the starting and ending indices of the subarray\n",
        "    start_idx = np.array(center) - np.array(shape) // 2\n",
        "    end_idx = start_idx + np.array(shape)\n",
        "\n",
        "    # Initialize the result array filled with the fill_value\n",
        "    result = np.full(shape, fill_value, dtype=arr.dtype)\n",
        "\n",
        "    # Calculate the region of the input array to copy to the result array\n",
        "    src_start = np.maximum(0, start_idx)\n",
        "    src_end = np.minimum(arr_shape, end_idx)\n",
        "\n",
        "    # Calculate the region in the result array to fill with values from the input array\n",
        "    dst_start = np.maximum(0, -start_idx)\n",
        "    dst_end = dst_start + (src_end - src_start)\n",
        "\n",
        "    # Copy the relevant part of the input array to the result array\n",
        "    result[tuple(map(slice, dst_start, dst_end))] = arr[tuple(map(slice, src_start, src_end))]\n",
        "\n",
        "    return result\n",
        "\n",
        "# Example usage\n",
        "arr = np.arange(25).reshape(5, 5)\n",
        "center = (2, 2)\n",
        "shape = (3, 3)\n",
        "subarray = extract_subarray(arr, center, shape, fill_value=0)\n",
        "\n",
        "print(subarray)\n"
      ]
    },
    {
      "cell_type": "markdown",
      "metadata": {
        "id": "H8hok2CO0VLu"
      },
      "source": [
        "#### 81. Consider an array Z = \\[1,2,3,4,5,6,7,8,9,10,11,12,13,14\\], how to generate an array R = \\[\\[1,2,3,4\\], \\[2,3,4,5\\], \\[3,4,5,6\\], ..., \\[11,12,13,14\\]\\]? (★★★)"
      ]
    },
    {
      "cell_type": "code",
      "execution_count": null,
      "metadata": {
        "id": "rgmsIwx20VLv",
        "colab": {
          "base_uri": "https://localhost:8080/"
        },
        "outputId": "d5f5a824-5ced-4582-8c69-cf3544fe0d36"
      },
      "outputs": [
        {
          "output_type": "stream",
          "name": "stdout",
          "text": [
            "[[          1  8589934592           2 12884901888]\n",
            " [ 8589934592           2 12884901888           3]\n",
            " [          2 12884901888           3 17179869184]\n",
            " [12884901888           3 17179869184           4]\n",
            " [          3 17179869184           4 21474836480]\n",
            " [17179869184           4 21474836480           5]\n",
            " [          4 21474836480           5 25769803776]\n",
            " [21474836480           5 25769803776           6]\n",
            " [          5 25769803776           6 30064771072]\n",
            " [25769803776           6 30064771072           7]\n",
            " [          6 30064771072           7 34359738368]]\n"
          ]
        }
      ],
      "source": [
        "Z=np.arange(1,15,dtype=int)\n",
        "R=stride_tricks.as_strided(Z,(11,4),(4,4))\n",
        "print(R)"
      ]
    },
    {
      "cell_type": "markdown",
      "metadata": {
        "id": "TwGlKO_l0VLv"
      },
      "source": [
        "#### 82. Compute a matrix rank (★★★)"
      ]
    },
    {
      "cell_type": "code",
      "execution_count": null,
      "metadata": {
        "id": "23kBIKyX0VLw",
        "colab": {
          "base_uri": "https://localhost:8080/"
        },
        "outputId": "ddebcdc0-2789-4736-9dc2-1f8d83bfffc5"
      },
      "outputs": [
        {
          "output_type": "stream",
          "name": "stdout",
          "text": [
            "10\n"
          ]
        }
      ],
      "source": [
        "Z=np.random.uniform(0,1,(10,10))\n",
        "U,L,V=np.linalg.svd(Z)\n",
        "rank=np.sum(L>1e-10)\n",
        "print(rank)"
      ]
    },
    {
      "cell_type": "markdown",
      "metadata": {
        "id": "YWkHVrjZ0VLw"
      },
      "source": [
        "#### 83. How to find the most frequent value in an array?"
      ]
    },
    {
      "cell_type": "code",
      "execution_count": null,
      "metadata": {
        "id": "N3haMyB40VLx",
        "colab": {
          "base_uri": "https://localhost:8080/"
        },
        "outputId": "3d7679e6-b109-4a24-e9b4-89ff1a6e7cfb"
      },
      "outputs": [
        {
          "output_type": "stream",
          "name": "stdout",
          "text": [
            "2\n"
          ]
        }
      ],
      "source": [
        "Z=np.random.randint(0,12,50)\n",
        "print(np.bincount(Z).argmax())\n"
      ]
    },
    {
      "cell_type": "markdown",
      "metadata": {
        "id": "wD1n5fIR0VLx"
      },
      "source": [
        "#### 84. Extract all the contiguous 3x3 blocks from a random 10x10 matrix (★★★)"
      ]
    },
    {
      "cell_type": "code",
      "execution_count": null,
      "metadata": {
        "id": "QzGIangA0VLy",
        "colab": {
          "base_uri": "https://localhost:8080/"
        },
        "outputId": "4dd29b76-8219-4608-c27c-08110fc5453f"
      },
      "outputs": [
        {
          "output_type": "stream",
          "name": "stdout",
          "text": [
            "[[[[1 3 0]\n",
            "   [0 4 3]\n",
            "   [0 2 4]]\n",
            "\n",
            "  [[3 0 0]\n",
            "   [4 3 2]\n",
            "   [2 4 3]]\n",
            "\n",
            "  [[0 0 1]\n",
            "   [3 2 2]\n",
            "   [4 3 4]]\n",
            "\n",
            "  [[0 1 4]\n",
            "   [2 2 3]\n",
            "   [3 4 2]]\n",
            "\n",
            "  [[1 4 3]\n",
            "   [2 3 0]\n",
            "   [4 2 3]]\n",
            "\n",
            "  [[4 3 1]\n",
            "   [3 0 2]\n",
            "   [2 3 3]]\n",
            "\n",
            "  [[3 1 1]\n",
            "   [0 2 3]\n",
            "   [3 3 0]]\n",
            "\n",
            "  [[1 1 2]\n",
            "   [2 3 0]\n",
            "   [3 0 1]]]\n",
            "\n",
            "\n",
            " [[[0 4 3]\n",
            "   [0 2 4]\n",
            "   [1 0 4]]\n",
            "\n",
            "  [[4 3 2]\n",
            "   [2 4 3]\n",
            "   [0 4 3]]\n",
            "\n",
            "  [[3 2 2]\n",
            "   [4 3 4]\n",
            "   [4 3 1]]\n",
            "\n",
            "  [[2 2 3]\n",
            "   [3 4 2]\n",
            "   [3 1 1]]\n",
            "\n",
            "  [[2 3 0]\n",
            "   [4 2 3]\n",
            "   [1 1 2]]\n",
            "\n",
            "  [[3 0 2]\n",
            "   [2 3 3]\n",
            "   [1 2 3]]\n",
            "\n",
            "  [[0 2 3]\n",
            "   [3 3 0]\n",
            "   [2 3 4]]\n",
            "\n",
            "  [[2 3 0]\n",
            "   [3 0 1]\n",
            "   [3 4 0]]]\n",
            "\n",
            "\n",
            " [[[0 2 4]\n",
            "   [1 0 4]\n",
            "   [4 0 4]]\n",
            "\n",
            "  [[2 4 3]\n",
            "   [0 4 3]\n",
            "   [0 4 3]]\n",
            "\n",
            "  [[4 3 4]\n",
            "   [4 3 1]\n",
            "   [4 3 0]]\n",
            "\n",
            "  [[3 4 2]\n",
            "   [3 1 1]\n",
            "   [3 0 3]]\n",
            "\n",
            "  [[4 2 3]\n",
            "   [1 1 2]\n",
            "   [0 3 0]]\n",
            "\n",
            "  [[2 3 3]\n",
            "   [1 2 3]\n",
            "   [3 0 2]]\n",
            "\n",
            "  [[3 3 0]\n",
            "   [2 3 4]\n",
            "   [0 2 1]]\n",
            "\n",
            "  [[3 0 1]\n",
            "   [3 4 0]\n",
            "   [2 1 2]]]\n",
            "\n",
            "\n",
            " [[[1 0 4]\n",
            "   [4 0 4]\n",
            "   [3 3 0]]\n",
            "\n",
            "  [[0 4 3]\n",
            "   [0 4 3]\n",
            "   [3 0 1]]\n",
            "\n",
            "  [[4 3 1]\n",
            "   [4 3 0]\n",
            "   [0 1 4]]\n",
            "\n",
            "  [[3 1 1]\n",
            "   [3 0 3]\n",
            "   [1 4 0]]\n",
            "\n",
            "  [[1 1 2]\n",
            "   [0 3 0]\n",
            "   [4 0 1]]\n",
            "\n",
            "  [[1 2 3]\n",
            "   [3 0 2]\n",
            "   [0 1 4]]\n",
            "\n",
            "  [[2 3 4]\n",
            "   [0 2 1]\n",
            "   [1 4 1]]\n",
            "\n",
            "  [[3 4 0]\n",
            "   [2 1 2]\n",
            "   [4 1 1]]]\n",
            "\n",
            "\n",
            " [[[4 0 4]\n",
            "   [3 3 0]\n",
            "   [3 4 3]]\n",
            "\n",
            "  [[0 4 3]\n",
            "   [3 0 1]\n",
            "   [4 3 1]]\n",
            "\n",
            "  [[4 3 0]\n",
            "   [0 1 4]\n",
            "   [3 1 0]]\n",
            "\n",
            "  [[3 0 3]\n",
            "   [1 4 0]\n",
            "   [1 0 1]]\n",
            "\n",
            "  [[0 3 0]\n",
            "   [4 0 1]\n",
            "   [0 1 3]]\n",
            "\n",
            "  [[3 0 2]\n",
            "   [0 1 4]\n",
            "   [1 3 1]]\n",
            "\n",
            "  [[0 2 1]\n",
            "   [1 4 1]\n",
            "   [3 1 4]]\n",
            "\n",
            "  [[2 1 2]\n",
            "   [4 1 1]\n",
            "   [1 4 2]]]\n",
            "\n",
            "\n",
            " [[[3 3 0]\n",
            "   [3 4 3]\n",
            "   [1 1 4]]\n",
            "\n",
            "  [[3 0 1]\n",
            "   [4 3 1]\n",
            "   [1 4 3]]\n",
            "\n",
            "  [[0 1 4]\n",
            "   [3 1 0]\n",
            "   [4 3 0]]\n",
            "\n",
            "  [[1 4 0]\n",
            "   [1 0 1]\n",
            "   [3 0 3]]\n",
            "\n",
            "  [[4 0 1]\n",
            "   [0 1 3]\n",
            "   [0 3 2]]\n",
            "\n",
            "  [[0 1 4]\n",
            "   [1 3 1]\n",
            "   [3 2 1]]\n",
            "\n",
            "  [[1 4 1]\n",
            "   [3 1 4]\n",
            "   [2 1 3]]\n",
            "\n",
            "  [[4 1 1]\n",
            "   [1 4 2]\n",
            "   [1 3 3]]]\n",
            "\n",
            "\n",
            " [[[3 4 3]\n",
            "   [1 1 4]\n",
            "   [2 4 2]]\n",
            "\n",
            "  [[4 3 1]\n",
            "   [1 4 3]\n",
            "   [4 2 2]]\n",
            "\n",
            "  [[3 1 0]\n",
            "   [4 3 0]\n",
            "   [2 2 1]]\n",
            "\n",
            "  [[1 0 1]\n",
            "   [3 0 3]\n",
            "   [2 1 2]]\n",
            "\n",
            "  [[0 1 3]\n",
            "   [0 3 2]\n",
            "   [1 2 0]]\n",
            "\n",
            "  [[1 3 1]\n",
            "   [3 2 1]\n",
            "   [2 0 3]]\n",
            "\n",
            "  [[3 1 4]\n",
            "   [2 1 3]\n",
            "   [0 3 4]]\n",
            "\n",
            "  [[1 4 2]\n",
            "   [1 3 3]\n",
            "   [3 4 0]]]\n",
            "\n",
            "\n",
            " [[[1 1 4]\n",
            "   [2 4 2]\n",
            "   [0 0 2]]\n",
            "\n",
            "  [[1 4 3]\n",
            "   [4 2 2]\n",
            "   [0 2 1]]\n",
            "\n",
            "  [[4 3 0]\n",
            "   [2 2 1]\n",
            "   [2 1 4]]\n",
            "\n",
            "  [[3 0 3]\n",
            "   [2 1 2]\n",
            "   [1 4 2]]\n",
            "\n",
            "  [[0 3 2]\n",
            "   [1 2 0]\n",
            "   [4 2 2]]\n",
            "\n",
            "  [[3 2 1]\n",
            "   [2 0 3]\n",
            "   [2 2 0]]\n",
            "\n",
            "  [[2 1 3]\n",
            "   [0 3 4]\n",
            "   [2 0 1]]\n",
            "\n",
            "  [[1 3 3]\n",
            "   [3 4 0]\n",
            "   [0 1 3]]]]\n"
          ]
        }
      ],
      "source": [
        "A=np.random.randint(0,5,(10,10))\n",
        "n=3\n",
        "i=1+(A.shape[0]-3)\n",
        "j=1+(A.shape[1]-3)\n",
        "C=stride_tricks.as_strided(A,shape=(i,j,n,n),strides=A.strides+A.strides)\n",
        "print(C)"
      ]
    },
    {
      "cell_type": "markdown",
      "metadata": {
        "id": "Go9hfzYV0VLy"
      },
      "source": [
        "#### 85. Create a 2D array subclass such that Z\\[i,j\\] == Z\\[j,i\\] (★★★)"
      ]
    },
    {
      "cell_type": "code",
      "execution_count": null,
      "metadata": {
        "id": "UFUZrBEP0VLz",
        "colab": {
          "base_uri": "https://localhost:8080/"
        },
        "outputId": "6ec38cd6-5eea-41ce-c384-9a2b4a8e7c98"
      },
      "outputs": [
        {
          "output_type": "stream",
          "name": "stdout",
          "text": [
            "[[ 1  5  4  3  6]\n",
            " [ 5  2  4  6  1]\n",
            " [ 4  4  2 12  8]\n",
            " [ 3  6 12  4  3]\n",
            " [ 6  1  8  3  4]]\n"
          ]
        }
      ],
      "source": [
        "class sym(np.ndarray):\n",
        "  def __setitem__(self,index,value):\n",
        "    i,j=index\n",
        "    super(sym,self).__setitem__((i,j),value)\n",
        "    super(sym,self).__setitem__((j,i),value)\n",
        "def symm(Z):\n",
        "  return np.asarray(Z+Z.T-np.diag(Z.diagonal())).view(sym)\n",
        "A=symm(np.random.randint(0,5,(5,5)))\n",
        "A[2,3]=12\n",
        "print(A)"
      ]
    },
    {
      "cell_type": "markdown",
      "metadata": {
        "id": "nON4LKZg0VLz"
      },
      "source": [
        "#### 86. Consider a set of p matrices wich shape (n,n) and a set of p vectors with shape (n,1). How to compute the sum of of the p matrix products at once? (result has shape (n,1)) (★★★)"
      ]
    },
    {
      "cell_type": "code",
      "execution_count": null,
      "metadata": {
        "id": "e2VFjjlZ0VLz",
        "colab": {
          "base_uri": "https://localhost:8080/"
        },
        "outputId": "6f214e99-1d9c-49cd-955d-fb3c099a2e16"
      },
      "outputs": [
        {
          "output_type": "stream",
          "name": "stdout",
          "text": [
            "[[200.]\n",
            " [200.]\n",
            " [200.]\n",
            " [200.]\n",
            " [200.]\n",
            " [200.]\n",
            " [200.]\n",
            " [200.]\n",
            " [200.]\n",
            " [200.]\n",
            " [200.]\n",
            " [200.]\n",
            " [200.]\n",
            " [200.]\n",
            " [200.]\n",
            " [200.]\n",
            " [200.]\n",
            " [200.]\n",
            " [200.]\n",
            " [200.]]\n"
          ]
        }
      ],
      "source": [
        "p,n=10,20\n",
        "C=np.ones((p,n,n))\n",
        "D=np.ones((p,n,1))\n",
        "S=np.tensordot(C,D,axes=[[0, 2], [0, 1]])\n",
        "print(S)"
      ]
    },
    {
      "cell_type": "markdown",
      "metadata": {
        "id": "wH_7YyOz0VLz"
      },
      "source": [
        "#### 87. Consider a 16x16 array, how to get the block-sum (block size is 4x4)? (★★★)"
      ]
    },
    {
      "cell_type": "code",
      "execution_count": null,
      "metadata": {
        "id": "1nY6gUn60VL0",
        "colab": {
          "base_uri": "https://localhost:8080/"
        },
        "outputId": "d17a2340-a91f-407a-ffa4-79937ff4af1d"
      },
      "outputs": [
        {
          "output_type": "stream",
          "name": "stdout",
          "text": [
            "[[16. 16. 16. 16.]\n",
            " [16. 16. 16. 16.]\n",
            " [16. 16. 16. 16.]\n",
            " [16. 16. 16. 16.]]\n"
          ]
        }
      ],
      "source": [
        "\n",
        "Z = np.ones((16,16))\n",
        "k = 4\n",
        "S = np.add.reduceat(np.add.reduceat(Z, np.arange(0, Z.shape[0], k), axis=0),\n",
        "                                       np.arange(0, Z.shape[1], k), axis=1)\n",
        "print(S)"
      ]
    },
    {
      "cell_type": "markdown",
      "metadata": {
        "id": "LXP1Y0My0VL0"
      },
      "source": [
        "#### 88. How to implement the Game of Life using numpy arrays? (★★★)"
      ]
    },
    {
      "cell_type": "code",
      "execution_count": null,
      "metadata": {
        "id": "PE0-ReMm0VL0",
        "colab": {
          "base_uri": "https://localhost:8080/"
        },
        "outputId": "93c70d90-5afe-4b61-ffd7-f004c576416c"
      },
      "outputs": [
        {
          "output_type": "stream",
          "name": "stdout",
          "text": [
            "[[0 0 0 ... 0 0 0]\n",
            " [0 0 0 ... 0 0 0]\n",
            " [0 0 0 ... 0 0 0]\n",
            " ...\n",
            " [0 0 0 ... 0 0 0]\n",
            " [0 0 0 ... 0 0 0]\n",
            " [0 0 0 ... 0 0 0]]\n"
          ]
        }
      ],
      "source": [
        "\n",
        "def iterate(Z):\n",
        "    # Count neighbours\n",
        "    N = (Z[0:-2,0:-2] + Z[0:-2,1:-1] + Z[0:-2,2:] +\n",
        "         Z[1:-1,0:-2]                + Z[1:-1,2:] +\n",
        "         Z[2:  ,0:-2] + Z[2:  ,1:-1] + Z[2:  ,2:])\n",
        "\n",
        "    # Apply rules\n",
        "    birth = (N==3) & (Z[1:-1,1:-1]==0)\n",
        "    survive = ((N==2) | (N==3)) & (Z[1:-1,1:-1]==1)\n",
        "    Z[...] = 0\n",
        "    Z[1:-1,1:-1][birth | survive] = 1\n",
        "    return Z\n",
        "\n",
        "Z = np.random.randint(0,2,(50,50))\n",
        "for i in range(100): Z = iterate(Z)\n",
        "print(Z)"
      ]
    },
    {
      "cell_type": "markdown",
      "metadata": {
        "id": "Uijp9jup0VL0"
      },
      "source": [
        "#### 89. How to get the n largest values of an array (★★★)"
      ]
    },
    {
      "cell_type": "code",
      "execution_count": null,
      "metadata": {
        "id": "jZ4MxjQY0VL1",
        "colab": {
          "base_uri": "https://localhost:8080/"
        },
        "outputId": "fe8a181c-92d8-452a-d7ea-def6a4155b5c"
      },
      "outputs": [
        {
          "output_type": "stream",
          "name": "stdout",
          "text": [
            "[95 96 97 98 99]\n",
            "[97 98 99 96 95]\n"
          ]
        }
      ],
      "source": [
        "Z=np.arange(100)\n",
        "np.random.shuffle(Z)\n",
        "n=5\n",
        "print(Z[np.argsort(Z)[-n:]])\n",
        "print(Z[np.argpartition(-Z,n)[:n]])"
      ]
    },
    {
      "cell_type": "markdown",
      "metadata": {
        "id": "Lv4Cp1Od0VL1"
      },
      "source": [
        "#### 90. Given an arbitrary number of vectors, build the cartesian product (every combinations of every item) (★★★)"
      ]
    },
    {
      "cell_type": "code",
      "execution_count": null,
      "metadata": {
        "scrolled": true,
        "id": "R2OxwzM40VL1",
        "colab": {
          "base_uri": "https://localhost:8080/"
        },
        "outputId": "40298328-db26-494c-d743-a63ec6aa378c"
      },
      "outputs": [
        {
          "output_type": "stream",
          "name": "stdout",
          "text": [
            "[[1 4 6]\n",
            " [1 4 7]\n",
            " [1 5 6]\n",
            " [1 5 7]\n",
            " [2 4 6]\n",
            " [2 4 7]\n",
            " [2 5 6]\n",
            " [2 5 7]\n",
            " [3 4 6]\n",
            " [3 4 7]\n",
            " [3 5 6]\n",
            " [3 5 7]]\n"
          ]
        }
      ],
      "source": [
        "def cartesian(arrays):\n",
        "    arrays = [np.asarray(a) for a in arrays]\n",
        "    shape = (len(x) for x in arrays)\n",
        "\n",
        "    ix = np.indices(shape, dtype=int)\n",
        "    ix = ix.reshape(len(arrays), -1).T\n",
        "\n",
        "    for n, arr in enumerate(arrays):\n",
        "        ix[:, n] = arrays[n][ix[:, n]]\n",
        "\n",
        "    return ix\n",
        "\n",
        "print (cartesian(([1, 2, 3], [4, 5], [6, 7])))"
      ]
    },
    {
      "cell_type": "markdown",
      "metadata": {
        "id": "CdMDWkQb0VL1"
      },
      "source": [
        "#### 91. How to create a record array from a regular array? (★★★)"
      ]
    },
    {
      "cell_type": "code",
      "execution_count": null,
      "metadata": {
        "id": "a8TB02XW0VL2",
        "colab": {
          "base_uri": "https://localhost:8080/"
        },
        "outputId": "14805d8c-592c-4ca3-a6af-738c24eebe1b"
      },
      "outputs": [
        {
          "output_type": "stream",
          "name": "stdout",
          "text": [
            "[(b'Hello', 2.5, 3) (b'World', 3.6, 2)]\n"
          ]
        }
      ],
      "source": [
        "#In NumPy, a record array (also known as a structured array) is a way to store heterogeneous data in a single array.\n",
        "#Unlike regular NumPy arrays, which hold elements of the same data type, record arrays allow you to define different data types for each field (or column) within the array.\n",
        "Z = np.array([(\"Hello\", 2.5, 3),\n",
        "              (\"World\", 3.6, 2)])\n",
        "R = np.core.records.fromarrays(Z.T,\n",
        "                               names='col1, col2, col3',\n",
        "                               formats = 'S8, f8, i8')\n",
        "print(R)"
      ]
    },
    {
      "cell_type": "markdown",
      "metadata": {
        "id": "naicAuF-0VL2"
      },
      "source": [
        "#### 92. Consider a large vector Z, compute Z to the power of 3 using 3 different methods (★★★)"
      ]
    },
    {
      "cell_type": "code",
      "execution_count": null,
      "metadata": {
        "id": "I50lgA3h0VL2",
        "colab": {
          "base_uri": "https://localhost:8080/"
        },
        "outputId": "07646da1-f7a7-4ec4-913c-634df4bd2a66"
      },
      "outputs": [
        {
          "output_type": "stream",
          "name": "stdout",
          "text": [
            "1.53 s ± 210 ms per loop (mean ± std. dev. of 7 runs, 1 loop each)\n",
            "241 ms ± 10.3 ms per loop (mean ± std. dev. of 7 runs, 1 loop each)\n",
            "212 ms ± 17.4 ms per loop (mean ± std. dev. of 7 runs, 1 loop each)\n"
          ]
        }
      ],
      "source": [
        "x=np.random.rand(int(5e7))\n",
        "%timeit np.power(x,3)\n",
        "%timeit x*x*x\n",
        "%timeit np.einsum('i,i,i->i',x,x,x)"
      ]
    },
    {
      "cell_type": "markdown",
      "metadata": {
        "id": "Ag-x_jK50VL2"
      },
      "source": [
        "#### 93. Consider two arrays A and B of shape (8,3) and (2,2). How to find rows of A that contain elements of each row of B regardless of the order of the elements in B? (★★★)"
      ]
    },
    {
      "cell_type": "code",
      "execution_count": null,
      "metadata": {
        "id": "3jqAUjrO0VL2",
        "colab": {
          "base_uri": "https://localhost:8080/"
        },
        "outputId": "7101bbd3-c290-4547-80fb-1156efc61480"
      },
      "outputs": [
        {
          "output_type": "stream",
          "name": "stdout",
          "text": [
            "[0 1 2 3 4 5 6 7]\n"
          ]
        }
      ],
      "source": [
        "A=np.random.randint(0,5,(8,3))\n",
        "B=np.random.randint(0,5,(2,2))\n",
        "C=(A[...,np.newaxis,np.newaxis]==B)\n",
        "rows=np.where(C.any((3,1)).all(1))[0]\n",
        "print(rows)"
      ]
    },
    {
      "cell_type": "markdown",
      "metadata": {
        "id": "c9SbzCfy0VL3"
      },
      "source": [
        "#### 94. Considering a 10x3 matrix, extract rows with unequal values (e.g. \\[2,2,3\\]) (★★★)"
      ]
    },
    {
      "cell_type": "code",
      "execution_count": null,
      "metadata": {
        "id": "3ZPbVmeb0VL3",
        "colab": {
          "base_uri": "https://localhost:8080/"
        },
        "outputId": "819e3727-42b6-4b29-f1e4-2e3be7c470e6"
      },
      "outputs": [
        {
          "output_type": "stream",
          "name": "stdout",
          "text": [
            "[[2 0 3]\n",
            " [4 1 1]\n",
            " [1 0 1]\n",
            " [2 0 4]\n",
            " [2 1 4]\n",
            " [0 3 0]\n",
            " [3 2 4]\n",
            " [2 0 4]\n",
            " [1 3 1]\n",
            " [1 1 2]]\n",
            "[[2 0 3]\n",
            " [4 1 1]\n",
            " [1 0 1]\n",
            " [2 0 4]\n",
            " [2 1 4]\n",
            " [0 3 0]\n",
            " [3 2 4]\n",
            " [2 0 4]\n",
            " [1 3 1]\n",
            " [1 1 2]]\n",
            "#########\n",
            "[[2 0 3]\n",
            " [4 1 1]\n",
            " [1 0 1]\n",
            " [2 0 4]\n",
            " [2 1 4]\n",
            " [0 3 0]\n",
            " [3 2 4]\n",
            " [2 0 4]\n",
            " [1 3 1]\n",
            " [1 1 2]]\n"
          ]
        }
      ],
      "source": [
        "Z = np.random.randint(0,5,(10,3))\n",
        "print(Z)\n",
        "# solution for arrays of all dtypes (including string arrays and record arrays)\n",
        "E = np.all(Z[:,1:] == Z[:,:-1], axis=1)\n",
        "U = Z[~E]\n",
        "print(U)\n",
        "print(\"#########\")\n",
        "U = Z[Z.max(axis=1) != Z.min(axis=1),:]\n",
        "print(U)"
      ]
    },
    {
      "cell_type": "markdown",
      "metadata": {
        "id": "Zr91WP9G0VL3"
      },
      "source": [
        "#### 95. Convert a vector of ints into a matrix binary representation (★★★)"
      ]
    },
    {
      "cell_type": "code",
      "execution_count": null,
      "metadata": {
        "id": "6mgAx7uy0VL3",
        "colab": {
          "base_uri": "https://localhost:8080/"
        },
        "outputId": "87b059b2-af27-4a72-b598-583ffd2e304a"
      },
      "outputs": [
        {
          "output_type": "stream",
          "name": "stdout",
          "text": [
            "[[0 0 0 0 0 0 1 0]\n",
            " [0 0 0 0 0 1 0 0]\n",
            " [0 0 0 0 1 0 0 0]\n",
            " [0 0 0 0 0 1 1 1]\n",
            " [0 0 0 1 0 0 0 0]\n",
            " [1 1 1 1 1 0 1 0]]\n"
          ]
        }
      ],
      "source": [
        "A=np.array([2,4,8,7,16,250],dtype=np.uint8)\n",
        "print(np.unpackbits(A[:,np.newaxis],axis=1))"
      ]
    },
    {
      "cell_type": "markdown",
      "metadata": {
        "id": "eahs5lT60VL4"
      },
      "source": [
        "#### 96. Given a two dimensional array, how to extract unique rows? (★★★)"
      ]
    },
    {
      "cell_type": "code",
      "execution_count": null,
      "metadata": {
        "id": "gXUSiFyB0VL4",
        "colab": {
          "base_uri": "https://localhost:8080/"
        },
        "outputId": "8d280f80-4a0b-4ae2-afcd-096dfdd5f70a"
      },
      "outputs": [
        {
          "output_type": "stream",
          "name": "stdout",
          "text": [
            "[[0 0 0]\n",
            " [0 0 1]\n",
            " [0 1 1]\n",
            " [1 1 0]]\n",
            "[[0 0 0]\n",
            " [0 0 1]\n",
            " [0 1 1]\n",
            " [1 1 0]]\n"
          ]
        }
      ],
      "source": [
        "\n",
        "Z = np.random.randint(0,2,(6,3))\n",
        "T = np.ascontiguousarray(Z).view(np.dtype((np.void, Z.dtype.itemsize * Z.shape[1])))\n",
        "_, idx = np.unique(T, return_index=True)\n",
        "uZ = Z[idx]\n",
        "print(uZ)\n",
        "\n",
        "# NumPy >= 1.13\n",
        "uZ = np.unique(Z, axis=0)\n",
        "print(uZ)"
      ]
    },
    {
      "cell_type": "markdown",
      "metadata": {
        "id": "Q5R6xCr60VL5"
      },
      "source": [
        "#### 97. Considering 2 vectors A & B, write the einsum equivalent of inner, outer, sum, and mul function (★★★)"
      ]
    },
    {
      "cell_type": "code",
      "execution_count": null,
      "metadata": {
        "id": "kAqgZBXh0VL5",
        "colab": {
          "base_uri": "https://localhost:8080/"
        },
        "outputId": "3e3ec92a-8920-49a2-86e5-2ee3126a9978"
      },
      "outputs": [
        {
          "output_type": "stream",
          "name": "stdout",
          "text": [
            "11.08535191485834\n",
            "9.163141537233525\n",
            "9.163141537233525\n",
            "[[0.24717715 0.26400484 0.75611102 0.60842183 0.64070955 0.39492699\n",
            "  0.44484859 0.00778598 0.22789033 0.63340954]\n",
            " [0.34178564 0.36505423 1.04551689 0.8412988  0.88594483 0.54608758\n",
            "  0.61511696 0.0107661  0.31511667 0.8758507 ]\n",
            " [0.56215864 0.60043011 1.71963443 1.38374273 1.45717516 0.89818828\n",
            "  1.0117257  0.01770776 0.51829433 1.44057264]\n",
            " [0.83521249 0.89207332 2.55490185 2.05585954 2.16495986 1.33445973\n",
            "  1.50314497 0.02630884 0.77004223 2.1402931 ]\n",
            " [0.42515609 0.45410049 1.30054578 1.04651356 1.10204993 0.67929262\n",
            "  0.76516006 0.01339224 0.39198186 1.08949358]\n",
            " [0.7282288  0.77780623 2.22764042 1.79252123 1.88764672 1.16352666\n",
            "  1.31060475 0.0229389  0.6714063  1.86613956]\n",
            " [0.26636224 0.28449605 0.81479791 0.65564556 0.69043935 0.42557995\n",
            "  0.47937629 0.0083903  0.24557844 0.68257274]\n",
            " [0.35017758 0.37401748 1.07118769 0.86195539 0.90769763 0.55949579\n",
            "  0.63022006 0.01103045 0.32285379 0.89735565]\n",
            " [0.23895779 0.25522591 0.73096811 0.58819002 0.61940407 0.38179451\n",
            "  0.43005607 0.00752707 0.2203123  0.61234681]\n",
            " [0.70207578 0.74987273 2.14763876 1.72814608 1.81985531 1.12174072\n",
            "  1.26353676 0.02211509 0.64729396 1.79912055]]\n"
          ]
        }
      ],
      "source": [
        "A=np.random.uniform(0,2,10)\n",
        "B=np.random.uniform(0,2,10)\n",
        "print(np.einsum('i->',A)) #np.sum(A)\n",
        "print(np.einsum('i,i->',A,B))#A*B\n",
        "print(np.einsum('i,i',A,B))#np.inner(A,B)\n",
        "print(np.einsum('i,j->ij',A,B))#np.outer(A,B)"
      ]
    },
    {
      "cell_type": "markdown",
      "metadata": {
        "id": "oet9IIxW0VL5"
      },
      "source": [
        "#### 98. Considering a path described by two vectors (X,Y), how to sample it using equidistant samples (★★★)?"
      ]
    },
    {
      "cell_type": "code",
      "execution_count": null,
      "metadata": {
        "collapsed": true,
        "id": "D27jkxDN0VL5"
      },
      "outputs": [],
      "source": [
        "phi = np.arange(0, 10*np.pi, 0.1)\n",
        "a = 1\n",
        "x = a*phi*np.cos(phi)\n",
        "y = a*phi*np.sin(phi)\n",
        "\n",
        "dr = (np.diff(x)**2 + np.diff(y)**2)**.5 # segment lengths\n",
        "r = np.zeros_like(x)\n",
        "r[1:] = np.cumsum(dr)                # integrate path\n",
        "r_int = np.linspace(0, r.max(), 200) # regular spaced path\n",
        "x_int = np.interp(r_int, r, x)       # integrate path\n",
        "y_int = np.interp(r_int, r, y)"
      ]
    },
    {
      "cell_type": "markdown",
      "metadata": {
        "id": "xVYHdvfl0VL5"
      },
      "source": [
        "#### 99. Given an integer n and a 2D array X, select from X the rows which can be interpreted as draws from a multinomial distribution with n degrees, i.e., the rows which only contain integers and which sum to n. (★★★)"
      ]
    },
    {
      "cell_type": "code",
      "execution_count": null,
      "metadata": {
        "id": "aCsO48R50VL6",
        "colab": {
          "base_uri": "https://localhost:8080/"
        },
        "outputId": "81f4ebb5-4647-4710-d150-5e6ddb371359"
      },
      "outputs": [
        {
          "output_type": "stream",
          "name": "stdout",
          "text": [
            "[[2. 0. 1. 1.]]\n"
          ]
        }
      ],
      "source": [
        "X = np.asarray([[1.0, 0.0, 3.0, 8.0],\n",
        "                [2.0, 0.0, 1.0, 1.0],\n",
        "                [1.5, 2.5, 1.0, 0.0]])\n",
        "n = 4\n",
        "M = np.logical_and.reduce(np.mod(X, 1) == 0, axis=-1)\n",
        "M &= (X.sum(axis=-1) == n)\n",
        "print(X[M])"
      ]
    },
    {
      "cell_type": "markdown",
      "metadata": {
        "id": "jhERQX_w0VL6"
      },
      "source": [
        "#### 100. Compute bootstrapped 95% confidence intervals for the mean of a 1D array X (i.e., resample the elements of an array with replacement N times, compute the mean of each sample, and then compute percentiles over the means). (★★★)"
      ]
    },
    {
      "cell_type": "code",
      "execution_count": null,
      "metadata": {
        "id": "bS7EdH6M0VL6",
        "colab": {
          "base_uri": "https://localhost:8080/"
        },
        "outputId": "df437e33-37cc-4092-c014-a257a1aee17a"
      },
      "outputs": [
        {
          "output_type": "stream",
          "name": "stdout",
          "text": [
            "[-0.08278289  0.27877467]\n"
          ]
        }
      ],
      "source": [
        "X = np.random.randn(100) # random 1D array\n",
        "N = 1000 # number of bootstrap samples\n",
        "idx = np.random.randint(0, X.size, (N, X.size))\n",
        "means = X[idx].mean(axis=1)\n",
        "confint = np.percentile(means, [2.5, 97.5])\n",
        "print(confint)"
      ]
    }
  ],
  "metadata": {
    "kernelspec": {
      "display_name": "Python 3",
      "language": "python",
      "name": "python3"
    },
    "language_info": {
      "codemirror_mode": {
        "name": "ipython",
        "version": 3
      },
      "file_extension": ".py",
      "mimetype": "text/x-python",
      "name": "python",
      "nbconvert_exporter": "python",
      "pygments_lexer": "ipython3",
      "version": "3.7.3"
    },
    "colab": {
      "provenance": []
    }
  },
  "nbformat": 4,
  "nbformat_minor": 0
}