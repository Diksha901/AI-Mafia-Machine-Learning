{
  "nbformat": 4,
  "nbformat_minor": 0,
  "metadata": {
    "colab": {
      "provenance": []
    },
    "kernelspec": {
      "name": "python3",
      "display_name": "Python 3"
    },
    "language_info": {
      "name": "python"
    }
  },
  "cells": [
    {
      "cell_type": "markdown",
      "source": [
        "# **Starting With Numpy**"
      ],
      "metadata": {
        "id": "p-xIKZYnXxnb"
      }
    },
    {
      "cell_type": "code",
      "source": [
        "import numpy as np\n",
        "#Creating an array object\n",
        "arr=np.array([[1,2,3],[4,5,6]])\n",
        "print(\"Array is of type: \",type(arr))\n",
        "print(\"No. of dimensions: \",arr.ndim)\n",
        "print(\"Shape of array: \",arr.shape)\n",
        "print(\"Size of array: \",arr.size)\n",
        "print(\"Array stores elements of type: \",arr.dtype)"
      ],
      "metadata": {
        "colab": {
          "base_uri": "https://localhost:8080/"
        },
        "id": "s9fBNcNFXwVJ",
        "outputId": "81df083e-b345-40df-e7ee-9c80417125d0"
      },
      "execution_count": 16,
      "outputs": [
        {
          "output_type": "stream",
          "name": "stdout",
          "text": [
            "Array is of type:  <class 'numpy.ndarray'>\n",
            "No. of dimensions:  2\n",
            "Shape of array:  (2, 3)\n",
            "Size of array:  6\n",
            "Array stores elements of type:  int64\n"
          ]
        }
      ]
    },
    {
      "cell_type": "markdown",
      "source": [
        "# **Creating Array**"
      ],
      "metadata": {
        "id": "V0bfdvgyXmHT"
      }
    },
    {
      "cell_type": "code",
      "source": [
        "a=np.array([[1,2,6],[5,9,10]],dtype='float')\n",
        "print(\"Array created from list using float as dtype:\\n \" ,a)\n",
        "b=np.array((1,2,8))\n",
        "print(\"Array created from tuple :\\n \", b)\n",
        "c=np.zeros((3,4))\n",
        "print(\"Array with all zeroes:\\n\", c)\n",
        "d=np.full((3,3),6,dtype='complex')\n",
        "print(\"Array with all 6s:\\n \" , d)\n",
        "e=np.random.random((2,2))\n",
        "print(\"Random array : \\n\", e)\n",
        "f=np.arange(0,20,3)\n",
        "print(\"Sequential array : \\n\", f )\n",
        "g=np.linspace(0,4,12)\n",
        "print(\"Array with 12 values from 0 to 4 : \\n\", g)\n",
        "arr=np.array([[1,2,3,4],\n",
        "              [6,7,8,5],\n",
        "              [2,0,7,3]])\n",
        "newarr=arr.reshape(2,2,3)\n",
        "print(\"Original Array: \\n\",arr)\n",
        "print(\"Reshaped array : \\n\", newarr)\n",
        "arr=np.array([[3,4,5],[2,9,0]])\n",
        "flaArr=arr.flatten()\n",
        "print(\"Original Array : \\n\", arr)\n",
        "print(\"Flattened Array : \\n\", flaArr)"
      ],
      "metadata": {
        "colab": {
          "base_uri": "https://localhost:8080/"
        },
        "id": "OotmCXbAN_Cl",
        "outputId": "02eb4d33-cda3-454c-e62a-83bde4ca479e"
      },
      "execution_count": 4,
      "outputs": [
        {
          "output_type": "stream",
          "name": "stdout",
          "text": [
            "Array created from list using float as dtype:\n",
            "  [[ 1.  2.  6.]\n",
            " [ 5.  9. 10.]]\n",
            "Array created from tuple :\n",
            "  [1 2 8]\n",
            "Array with all zeroes:\n",
            " [[0. 0. 0. 0.]\n",
            " [0. 0. 0. 0.]\n",
            " [0. 0. 0. 0.]]\n",
            "Array with all 6s:\n",
            "  [[6.+0.j 6.+0.j 6.+0.j]\n",
            " [6.+0.j 6.+0.j 6.+0.j]\n",
            " [6.+0.j 6.+0.j 6.+0.j]]\n",
            "Random array : \n",
            " [[0.7565528  0.7184044 ]\n",
            " [0.78354291 0.94958563]]\n",
            "Sequential array : \n",
            " [ 0  3  6  9 12 15 18]\n",
            "Array with 12 values from 0 to 4 : \n",
            " [0.         0.36363636 0.72727273 1.09090909 1.45454545 1.81818182\n",
            " 2.18181818 2.54545455 2.90909091 3.27272727 3.63636364 4.        ]\n",
            "Original Array: \n",
            " [[1 2 3 4]\n",
            " [6 7 8 5]\n",
            " [2 0 7 3]]\n",
            "Reshaped array : \n",
            " [[[1 2 3]\n",
            "  [4 6 7]]\n",
            "\n",
            " [[8 5 2]\n",
            "  [0 7 3]]]\n",
            "Original Array : \n",
            " [[3 4 5]\n",
            " [2 9 0]]\n",
            "Flattened Array : \n",
            " [3 4 5 2 9 0]\n"
          ]
        }
      ]
    },
    {
      "cell_type": "code",
      "source": [
        "arr=np.array([[-1,2,0,9],\n",
        "              [4,-0.9,1,0],\n",
        "              [2.5,0,7,8],\n",
        "              [3,0,-5,5.0]])\n",
        "temp1=arr[[0,1,2,3],[3,2,1,0]]\n",
        "print(\"Elements with indices (0,3)(1,2)(2,1)(3,0):\\n\", temp1)\n",
        "cond=arr>1\n",
        "temp=arr[cond]\n",
        "print(\"values greater than 1 : \", temp)\n"
      ],
      "metadata": {
        "colab": {
          "base_uri": "https://localhost:8080/"
        },
        "id": "Er187gn8RlkG",
        "outputId": "46b36658-4178-4eaa-b2a4-785e91a3dec4"
      },
      "execution_count": 6,
      "outputs": [
        {
          "output_type": "stream",
          "name": "stdout",
          "text": [
            "Elements with indices (0,3)(1,2)(2,1)(3,0):\n",
            " [9. 1. 0. 3.]\n",
            "values greater than 1 :  [2.  9.  4.  2.5 7.  8.  3.  5. ]\n"
          ]
        }
      ]
    },
    {
      "cell_type": "markdown",
      "source": [
        "# **Binary Operations**"
      ],
      "metadata": {
        "id": "Jgf64eSBXYrU"
      }
    },
    {
      "cell_type": "code",
      "source": [
        "a=np.array([1,5,6,8])\n",
        "print(\"Adding 2 to each element :\", a+2)\n",
        "print(\"Subtract 3 from each element: \", a-3)\n",
        "print(\"Multiply by 6:\" , a*6)\n",
        "print(\"Cubing each element : \", a**3)\n",
        "b=np.array([[3,5,8],[9,0,7],[3,2,1]])\n",
        "print(\"Original Array : \\n\",b)\n",
        "print(\"Transpose of Array: \\n\",b.T)\n"
      ],
      "metadata": {
        "colab": {
          "base_uri": "https://localhost:8080/"
        },
        "id": "E1_5-LA3SQ2T",
        "outputId": "6b8cd36c-cf90-4b63-8f6c-d6ac5583164f"
      },
      "execution_count": 7,
      "outputs": [
        {
          "output_type": "stream",
          "name": "stdout",
          "text": [
            "Adding 2 to each element : [ 3  7  8 10]\n",
            "Subtract 3 from each element:  [-2  2  3  5]\n",
            "Multiply by 6: [ 6 30 36 48]\n",
            "Cubing each element :  [  1 125 216 512]\n",
            "Original Array : \n",
            " [[3 5 8]\n",
            " [9 0 7]\n",
            " [3 2 1]]\n",
            "Transpose of Array: \n",
            " [[3 9 3]\n",
            " [5 0 2]\n",
            " [8 7 1]]\n"
          ]
        }
      ]
    },
    {
      "cell_type": "code",
      "source": [
        "print(\"Largest Element in b: \", b.max())\n",
        "print(\"Column Wise max Element : \", b.max(axis=0))\n",
        "print(\"Row wise min element :\", b.min(axis=1))\n",
        "print(\"Cummulative sum along each row :\\n\", b.cumsum(axis=1))\n",
        "print(\"Sum of array:\\n\", b.sum())"
      ],
      "metadata": {
        "colab": {
          "base_uri": "https://localhost:8080/"
        },
        "id": "0HfTxl_xTRUb",
        "outputId": "c27d9d6d-03fa-4f4e-c90e-3c683950061a"
      },
      "execution_count": 9,
      "outputs": [
        {
          "output_type": "stream",
          "name": "stdout",
          "text": [
            "Largest Element in b:  9\n",
            "Column Wise max Element :  [9 5 8]\n",
            "Row wise min element : [3 0 1]\n",
            "Cummulative sum along each row :\n",
            " [[ 3  8 16]\n",
            " [ 9  9 16]\n",
            " [ 3  5  6]]\n",
            "Sum of array:\n",
            " 38\n"
          ]
        }
      ]
    },
    {
      "cell_type": "code",
      "source": [
        "a=np.array([[1,2],\n",
        "            [5,0]])\n",
        "b=np.array([[4,6],\n",
        "            [1,2]])\n",
        "print(\"sum of a and b:\\n\", a+b)\n",
        "print(\"Multplication of a and b:\\n\", a*b)\n",
        "print(\"Dot Product: \\n\", a.dot(b))"
      ],
      "metadata": {
        "colab": {
          "base_uri": "https://localhost:8080/"
        },
        "id": "-rzqR41YUKuq",
        "outputId": "b3d5340e-4b8e-4b48-a7a6-0470efab4ba0"
      },
      "execution_count": 10,
      "outputs": [
        {
          "output_type": "stream",
          "name": "stdout",
          "text": [
            "sum of a and b:\n",
            " [[5 8]\n",
            " [6 2]]\n",
            "Multplication of a and b:\n",
            " [[ 4 12]\n",
            " [ 5  0]]\n",
            "Dot Product: \n",
            " [[ 6 10]\n",
            " [20 30]]\n"
          ]
        }
      ]
    },
    {
      "cell_type": "markdown",
      "source": [
        "# **Sorting**"
      ],
      "metadata": {
        "id": "6sX0F5_MXPjs"
      }
    },
    {
      "cell_type": "code",
      "source": [
        "a=np.array([[7,0,2],\n",
        "            [3,1,9],\n",
        "            [-8,4,0]])\n",
        "print(\"Sorted Array:\\n\", np.sort(a,axis=None))\n",
        "print(\"Row Sorted Array:\\n\", np.sort(a,axis=1))\n",
        "print(\"Column wise sort using mergesort :\\n\", np.sort(a,axis=0,kind=\"mergesort\"))\n"
      ],
      "metadata": {
        "colab": {
          "base_uri": "https://localhost:8080/"
        },
        "id": "KUjqLwqXUxzI",
        "outputId": "05e6052e-b504-46be-ed93-c2b0d0126e00"
      },
      "execution_count": 11,
      "outputs": [
        {
          "output_type": "stream",
          "name": "stdout",
          "text": [
            "Sorted Array:\n",
            " [-8  0  0  1  2  3  4  7  9]\n",
            "Row Sorted Array:\n",
            " [[ 0  2  7]\n",
            " [ 1  3  9]\n",
            " [-8  0  4]]\n",
            "Column wise sort using mergesort :\n",
            " [[-8  0  0]\n",
            " [ 3  1  2]\n",
            " [ 7  4  9]]\n"
          ]
        }
      ]
    },
    {
      "cell_type": "markdown",
      "source": [
        "# **Stacking**"
      ],
      "metadata": {
        "id": "3onHuubAXHGj"
      }
    },
    {
      "cell_type": "code",
      "source": [
        "a=np.array([[1,2],\n",
        "            [5,0]])\n",
        "b=np.array([[4,6],\n",
        "            [1,2]])\n",
        "print(\"Horizontal stack : \\n\",np.hstack((a,b)))\n",
        "print(\"Vertical Stack :\\n\", np.vstack((a,b)))\n",
        "c=[5,6]\n",
        "print(\"Column stacking: \\n\",np.column_stack((b,c)))\n",
        "print(\"Concatenating to 2nd axis:\\n\",np.concatenate((a,b),1))\n"
      ],
      "metadata": {
        "colab": {
          "base_uri": "https://localhost:8080/"
        },
        "id": "fa7rRHx1V9xq",
        "outputId": "f1366316-bd5e-42c0-ebeb-242201fa9843"
      },
      "execution_count": 15,
      "outputs": [
        {
          "output_type": "stream",
          "name": "stdout",
          "text": [
            "Horizontal stack : \n",
            " [[1 2 4 6]\n",
            " [5 0 1 2]]\n",
            "Vertical Stack :\n",
            " [[1 2]\n",
            " [5 0]\n",
            " [4 6]\n",
            " [1 2]]\n",
            "Column stacking: \n",
            " [[4 6 5]\n",
            " [1 2 6]]\n",
            "Concatenating to 2nd axis:\n",
            " [[1 2 4 6]\n",
            " [5 0 1 2]]\n"
          ]
        }
      ]
    },
    {
      "cell_type": "markdown",
      "source": [
        "# **Splitting**"
      ],
      "metadata": {
        "id": "zrXJ9wTpW93T"
      }
    },
    {
      "cell_type": "code",
      "source": [
        "a=np.array([[1,3,5,7,9],\n",
        "            [2,4,6,8,10]])\n",
        "print(\"Vertical Splitting: \\n\", np.vsplit(a,2))\n",
        "print(\"Horizontal Splitting: \",np.hsplit(a,5))"
      ],
      "metadata": {
        "colab": {
          "base_uri": "https://localhost:8080/"
        },
        "id": "xWsgYoREW82r",
        "outputId": "d479bbf9-54c8-44dd-8aa3-ee32d2a456b0"
      },
      "execution_count": 20,
      "outputs": [
        {
          "output_type": "stream",
          "name": "stdout",
          "text": [
            "Vertical Splitting: \n",
            " [array([[1, 3, 5, 7, 9]]), array([[ 2,  4,  6,  8, 10]])]\n",
            "Horizontal Splitting:  [array([[1],\n",
            "       [2]]), array([[3],\n",
            "       [4]]), array([[5],\n",
            "       [6]]), array([[7],\n",
            "       [8]]), array([[ 9],\n",
            "       [10]])]\n"
          ]
        }
      ]
    }
  ]
}